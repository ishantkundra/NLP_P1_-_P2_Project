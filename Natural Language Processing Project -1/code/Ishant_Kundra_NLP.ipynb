{
 "cells": [
  {
   "cell_type": "markdown",
   "id": "77e65d62",
   "metadata": {},
   "source": [
    "# ISHANT KUNDRA"
   ]
  },
  {
   "cell_type": "markdown",
   "id": "e8737b8e",
   "metadata": {},
   "source": [
    "# Part A "
   ]
  },
  {
   "cell_type": "markdown",
   "id": "e9a3317e",
   "metadata": {},
   "source": [
    "## 1. Read and Analyse Dataset. [5 Marks]"
   ]
  },
  {
   "cell_type": "code",
   "execution_count": 1,
   "id": "d4c5ff15",
   "metadata": {},
   "outputs": [],
   "source": [
    "import pandas as pd\n",
    "import numpy as np"
   ]
  },
  {
   "cell_type": "code",
   "execution_count": 2,
   "id": "131fa7a1",
   "metadata": {},
   "outputs": [],
   "source": [
    "data=pd.read_csv(\"Desktop/data/blogtext.csv\", nrows=1500)"
   ]
  },
  {
   "cell_type": "markdown",
   "id": "188b71fd",
   "metadata": {},
   "source": [
    "### 1.A. Clearly write outcome of data analysis(Minimum 2 points) [2 Marks]"
   ]
  },
  {
   "cell_type": "markdown",
   "id": "ceaf9222",
   "metadata": {},
   "source": [
    "Outcomes of data analysis:\n",
    "1. Details of blogger is given in total seven columns ( id', 'gender', 'age', 'topic', 'sign', 'date', 'text').\n",
    "2. Data is comletely clean as not containg any missing (null) values.\n",
    "3. Bloggers text is categorised into total 16 topics (Student',\n",
    " 'InvestmentBanking',\n",
    " 'indUnk',\n",
    " 'Non-Profit',\n",
    " 'Banking',\n",
    " 'Education',\n",
    " 'Engineering',\n",
    " 'Science',\n",
    " 'Communications-Media',\n",
    " 'BusinessServices',\n",
    " 'Sports-Recreation',\n",
    " 'Arts',\n",
    " 'Internet',\n",
    " 'Museums-Libraries',\n",
    " 'Accounting',\n",
    " 'Technology).\n",
    " 4."
   ]
  },
  {
   "cell_type": "code",
   "execution_count": 3,
   "id": "ae2be92d",
   "metadata": {},
   "outputs": [
    {
     "data": {
      "text/plain": [
       "(1500, 7)"
      ]
     },
     "execution_count": 3,
     "metadata": {},
     "output_type": "execute_result"
    }
   ],
   "source": [
    "data.shape"
   ]
  },
  {
   "cell_type": "code",
   "execution_count": 4,
   "id": "6fc7b258",
   "metadata": {},
   "outputs": [
    {
     "data": {
      "text/plain": [
       "Index(['id', 'gender', 'age', 'topic', 'sign', 'date', 'text'], dtype='object')"
      ]
     },
     "execution_count": 4,
     "metadata": {},
     "output_type": "execute_result"
    }
   ],
   "source": [
    "data.columns"
   ]
  },
  {
   "cell_type": "code",
   "execution_count": 5,
   "id": "3cb606ee",
   "metadata": {},
   "outputs": [
    {
     "data": {
      "text/plain": [
       "424873"
      ]
     },
     "execution_count": 5,
     "metadata": {},
     "output_type": "execute_result"
    }
   ],
   "source": [
    "data['text'].apply(lambda x: len(x.split(' '))).sum()"
   ]
  },
  {
   "cell_type": "code",
   "execution_count": 6,
   "id": "0f379f29",
   "metadata": {},
   "outputs": [
    {
     "name": "stdout",
     "output_type": "stream",
     "text": [
      "<class 'pandas.core.frame.DataFrame'>\n",
      "RangeIndex: 1500 entries, 0 to 1499\n",
      "Data columns (total 7 columns):\n",
      " #   Column  Non-Null Count  Dtype \n",
      "---  ------  --------------  ----- \n",
      " 0   id      1500 non-null   int64 \n",
      " 1   gender  1500 non-null   object\n",
      " 2   age     1500 non-null   int64 \n",
      " 3   topic   1500 non-null   object\n",
      " 4   sign    1500 non-null   object\n",
      " 5   date    1500 non-null   object\n",
      " 6   text    1500 non-null   object\n",
      "dtypes: int64(2), object(5)\n",
      "memory usage: 82.2+ KB\n"
     ]
    }
   ],
   "source": [
    "data.info()"
   ]
  },
  {
   "cell_type": "code",
   "execution_count": 7,
   "id": "3d798b14",
   "metadata": {},
   "outputs": [
    {
     "data": {
      "text/html": [
       "<div>\n",
       "<style scoped>\n",
       "    .dataframe tbody tr th:only-of-type {\n",
       "        vertical-align: middle;\n",
       "    }\n",
       "\n",
       "    .dataframe tbody tr th {\n",
       "        vertical-align: top;\n",
       "    }\n",
       "\n",
       "    .dataframe thead th {\n",
       "        text-align: right;\n",
       "    }\n",
       "</style>\n",
       "<table border=\"1\" class=\"dataframe\">\n",
       "  <thead>\n",
       "    <tr style=\"text-align: right;\">\n",
       "      <th></th>\n",
       "      <th>id</th>\n",
       "      <th>age</th>\n",
       "    </tr>\n",
       "  </thead>\n",
       "  <tbody>\n",
       "    <tr>\n",
       "      <th>count</th>\n",
       "      <td>1.500000e+03</td>\n",
       "      <td>1500.000000</td>\n",
       "    </tr>\n",
       "    <tr>\n",
       "      <th>mean</th>\n",
       "      <td>2.565302e+06</td>\n",
       "      <td>23.402000</td>\n",
       "    </tr>\n",
       "    <tr>\n",
       "      <th>std</th>\n",
       "      <td>1.211277e+06</td>\n",
       "      <td>7.486995</td>\n",
       "    </tr>\n",
       "    <tr>\n",
       "      <th>min</th>\n",
       "      <td>5.897360e+05</td>\n",
       "      <td>14.000000</td>\n",
       "    </tr>\n",
       "    <tr>\n",
       "      <th>25%</th>\n",
       "      <td>1.415200e+06</td>\n",
       "      <td>16.000000</td>\n",
       "    </tr>\n",
       "    <tr>\n",
       "      <th>50%</th>\n",
       "      <td>3.176655e+06</td>\n",
       "      <td>24.000000</td>\n",
       "    </tr>\n",
       "    <tr>\n",
       "      <th>75%</th>\n",
       "      <td>3.568056e+06</td>\n",
       "      <td>26.250000</td>\n",
       "    </tr>\n",
       "    <tr>\n",
       "      <th>max</th>\n",
       "      <td>4.313749e+06</td>\n",
       "      <td>45.000000</td>\n",
       "    </tr>\n",
       "  </tbody>\n",
       "</table>\n",
       "</div>"
      ],
      "text/plain": [
       "                 id          age\n",
       "count  1.500000e+03  1500.000000\n",
       "mean   2.565302e+06    23.402000\n",
       "std    1.211277e+06     7.486995\n",
       "min    5.897360e+05    14.000000\n",
       "25%    1.415200e+06    16.000000\n",
       "50%    3.176655e+06    24.000000\n",
       "75%    3.568056e+06    26.250000\n",
       "max    4.313749e+06    45.000000"
      ]
     },
     "execution_count": 7,
     "metadata": {},
     "output_type": "execute_result"
    }
   ],
   "source": [
    "data.describe()"
   ]
  },
  {
   "cell_type": "code",
   "execution_count": 8,
   "id": "5c66a452",
   "metadata": {},
   "outputs": [
    {
     "data": {
      "text/plain": [
       "id        0\n",
       "gender    0\n",
       "age       0\n",
       "topic     0\n",
       "sign      0\n",
       "date      0\n",
       "text      0\n",
       "dtype: int64"
      ]
     },
     "execution_count": 8,
     "metadata": {},
     "output_type": "execute_result"
    }
   ],
   "source": [
    "data.isnull().sum()"
   ]
  },
  {
   "cell_type": "code",
   "execution_count": 9,
   "id": "87aca1d9",
   "metadata": {},
   "outputs": [
    {
     "data": {
      "text/html": [
       "<div>\n",
       "<style scoped>\n",
       "    .dataframe tbody tr th:only-of-type {\n",
       "        vertical-align: middle;\n",
       "    }\n",
       "\n",
       "    .dataframe tbody tr th {\n",
       "        vertical-align: top;\n",
       "    }\n",
       "\n",
       "    .dataframe thead th {\n",
       "        text-align: right;\n",
       "    }\n",
       "</style>\n",
       "<table border=\"1\" class=\"dataframe\">\n",
       "  <thead>\n",
       "    <tr style=\"text-align: right;\">\n",
       "      <th></th>\n",
       "      <th>id</th>\n",
       "      <th>gender</th>\n",
       "      <th>age</th>\n",
       "      <th>topic</th>\n",
       "      <th>sign</th>\n",
       "      <th>date</th>\n",
       "      <th>text</th>\n",
       "    </tr>\n",
       "  </thead>\n",
       "  <tbody>\n",
       "    <tr>\n",
       "      <th>1495</th>\n",
       "      <td>589736</td>\n",
       "      <td>male</td>\n",
       "      <td>35</td>\n",
       "      <td>Technology</td>\n",
       "      <td>Aries</td>\n",
       "      <td>05,August,2004</td>\n",
       "      <td>Um...testing...testing....  ....is ...</td>\n",
       "    </tr>\n",
       "    <tr>\n",
       "      <th>1496</th>\n",
       "      <td>589736</td>\n",
       "      <td>male</td>\n",
       "      <td>35</td>\n",
       "      <td>Technology</td>\n",
       "      <td>Aries</td>\n",
       "      <td>05,August,2004</td>\n",
       "      <td>hmmm... okay.  that was beautiful w...</td>\n",
       "    </tr>\n",
       "    <tr>\n",
       "      <th>1497</th>\n",
       "      <td>589736</td>\n",
       "      <td>male</td>\n",
       "      <td>35</td>\n",
       "      <td>Technology</td>\n",
       "      <td>Aries</td>\n",
       "      <td>05,August,2004</td>\n",
       "      <td>group:  make sure that when you ref...</td>\n",
       "    </tr>\n",
       "    <tr>\n",
       "      <th>1498</th>\n",
       "      <td>589736</td>\n",
       "      <td>male</td>\n",
       "      <td>35</td>\n",
       "      <td>Technology</td>\n",
       "      <td>Aries</td>\n",
       "      <td>05,August,2004</td>\n",
       "      <td>watch that pendulum swing baby!    ...</td>\n",
       "    </tr>\n",
       "    <tr>\n",
       "      <th>1499</th>\n",
       "      <td>589736</td>\n",
       "      <td>male</td>\n",
       "      <td>35</td>\n",
       "      <td>Technology</td>\n",
       "      <td>Aries</td>\n",
       "      <td>05,August,2004</td>\n",
       "      <td>one final note (for now) on the mar...</td>\n",
       "    </tr>\n",
       "  </tbody>\n",
       "</table>\n",
       "</div>"
      ],
      "text/plain": [
       "          id gender  age       topic   sign            date  \\\n",
       "1495  589736   male   35  Technology  Aries  05,August,2004   \n",
       "1496  589736   male   35  Technology  Aries  05,August,2004   \n",
       "1497  589736   male   35  Technology  Aries  05,August,2004   \n",
       "1498  589736   male   35  Technology  Aries  05,August,2004   \n",
       "1499  589736   male   35  Technology  Aries  05,August,2004   \n",
       "\n",
       "                                                   text  \n",
       "1495             Um...testing...testing....  ....is ...  \n",
       "1496             hmmm... okay.  that was beautiful w...  \n",
       "1497             group:  make sure that when you ref...  \n",
       "1498             watch that pendulum swing baby!    ...  \n",
       "1499             one final note (for now) on the mar...  "
      ]
     },
     "execution_count": 9,
     "metadata": {},
     "output_type": "execute_result"
    }
   ],
   "source": [
    "data.tail()"
   ]
  },
  {
   "cell_type": "code",
   "execution_count": 10,
   "id": "d7de7d62",
   "metadata": {},
   "outputs": [
    {
     "data": {
      "text/plain": [
       "16"
      ]
     },
     "execution_count": 10,
     "metadata": {},
     "output_type": "execute_result"
    }
   ],
   "source": [
    "data[\"topic\"].nunique()"
   ]
  },
  {
   "cell_type": "code",
   "execution_count": 11,
   "id": "a84285ea",
   "metadata": {},
   "outputs": [],
   "source": [
    "import matplotlib.pyplot as plt\n",
    "import seaborn as sns"
   ]
  },
  {
   "cell_type": "code",
   "execution_count": 12,
   "id": "107dffcd",
   "metadata": {},
   "outputs": [
    {
     "data": {
      "text/plain": [
       "<AxesSubplot:xlabel='age', ylabel='topic'>"
      ]
     },
     "execution_count": 12,
     "metadata": {},
     "output_type": "execute_result"
    },
    {
     "data": {
      "image/png": "[encoded data removed]",
      "text/plain": [
       "<Figure size 432x288 with 1 Axes>"
      ]
     },
     "metadata": {
      "needs_background": "light"
     },
     "output_type": "display_data"
    }
   ],
   "source": [
    "sns.barplot(x=\"age\",y=\"topic\", data=data)"
   ]
  },
  {
   "cell_type": "code",
   "execution_count": 13,
   "id": "7be51374",
   "metadata": {},
   "outputs": [
    {
     "data": {
      "text/plain": [
       "<AxesSubplot:xlabel='gender', ylabel='age'>"
      ]
     },
     "execution_count": 13,
     "metadata": {},
     "output_type": "execute_result"
    },
    {
     "data": {
      "image/png": "[encoded data removed]",
      "text/plain": [
       "<Figure size 432x288 with 1 Axes>"
      ]
     },
     "metadata": {
      "needs_background": "light"
     },
     "output_type": "display_data"
    }
   ],
   "source": [
    "sns.barplot(x=\"gender\",y=\"age\", data=data)"
   ]
  },
  {
   "cell_type": "code",
   "execution_count": 14,
   "id": "bb1d2eb9",
   "metadata": {},
   "outputs": [
    {
     "data": {
      "image/png": "[encoded data removed]",
      "text/plain": [
       "<Figure size 720x288 with 1 Axes>"
      ]
     },
     "metadata": {
      "needs_background": "light"
     },
     "output_type": "display_data"
    }
   ],
   "source": [
    "plt.figure(figsize=(10,4))\n",
    "data.topic.value_counts().plot(kind='bar');"
   ]
  },
  {
   "cell_type": "markdown",
   "id": "8ae6591d",
   "metadata": {},
   "source": [
    "### 1.B. Clean the Structured Data [3 Marks]"
   ]
  },
  {
   "cell_type": "markdown",
   "id": "5dc0edf7",
   "metadata": {},
   "source": [
    "#### 1.B.i. Missing value analysis and imputation. [1 Marks]"
   ]
  },
  {
   "cell_type": "code",
   "execution_count": 15,
   "id": "1e8ed7c1",
   "metadata": {},
   "outputs": [
    {
     "data": {
      "text/plain": [
       "id        0\n",
       "gender    0\n",
       "age       0\n",
       "topic     0\n",
       "sign      0\n",
       "date      0\n",
       "text      0\n",
       "dtype: int64"
      ]
     },
     "execution_count": 15,
     "metadata": {},
     "output_type": "execute_result"
    }
   ],
   "source": [
    "data.isnull().sum() ### No nan values in data"
   ]
  },
  {
   "cell_type": "markdown",
   "id": "aa4d0695",
   "metadata": {},
   "source": [
    "#### 1.B.ii. Eliminate Non-English textual data. [2 Marks]"
   ]
  },
  {
   "cell_type": "code",
   "execution_count": 16,
   "id": "e7cab74b",
   "metadata": {},
   "outputs": [
    {
     "name": "stdout",
     "output_type": "stream",
     "text": [
      "Requirement already satisfied: langdetect in ./opt/anaconda3/lib/python3.9/site-packages (1.0.9)\n",
      "Requirement already satisfied: six in ./opt/anaconda3/lib/python3.9/site-packages (from langdetect) (1.16.0)\n",
      "\n",
      "\u001b[1m[\u001b[0m\u001b[34;49mnotice\u001b[0m\u001b[1;39;49m]\u001b[0m\u001b[39;49m A new release of pip available: \u001b[0m\u001b[31;49m22.3.1\u001b[0m\u001b[39;49m -> \u001b[0m\u001b[32;49m23.1\u001b[0m\n",
      "\u001b[1m[\u001b[0m\u001b[34;49mnotice\u001b[0m\u001b[1;39;49m]\u001b[0m\u001b[39;49m To update, run: \u001b[0m\u001b[32;49mpip install --upgrade pip\u001b[0m\n"
     ]
    }
   ],
   "source": [
    "! pip install langdetect"
   ]
  },
  {
   "cell_type": "code",
   "execution_count": 17,
   "id": "f4ed44ba",
   "metadata": {},
   "outputs": [],
   "source": [
    "from langdetect import detect"
   ]
  },
  {
   "cell_type": "code",
   "execution_count": 18,
   "id": "8281d530",
   "metadata": {},
   "outputs": [],
   "source": [
    "### Function to remove other than english text\n",
    "import numpy as np\n",
    "def removal_non_eng_text_data(row):\n",
    "  ''' \n",
    "  Argument=values of text column \n",
    "  return nan if text is not in english language\n",
    "  return same value if value is not contain text \n",
    "  e.g. if text is like -- \".\",\"/\",\"\\\"\n",
    "  '''\n",
    "  row=row\n",
    "  try: \n",
    "    if detect(row)==\"en\":\n",
    "      return row\n",
    "    else:\n",
    "      return np.nan\n",
    "  except Exception as e:\n",
    "    if e==\"No features in text.\":\n",
    "      return row\n"
   ]
  },
  {
   "cell_type": "code",
   "execution_count": 19,
   "id": "646e2fd1",
   "metadata": {},
   "outputs": [
    {
     "data": {
      "text/plain": [
       "\"             Whenever I see a pregnant Korean lady I really feel for her, because I know that within a few months she will have a 3-5 year sentence to complete and utter child-rearing duties.  As with most things Korean, mothers go all out...right from before conception to...well, it never stops.    Today I got a taste of that.  What a day!  My 3-year old (Spencer) woke me up at 9AM (which is early seeing as I still have some jetlag and was up from midnight to 3AM last night).  The younger, Winston, was already up, too.  My wife and I must have fed these kids like 5-7 times during the day, they just never stop!  Spencer and I went to his swimming class.  We get a discount on regular swimming since he's enrolled.  The gal behind the counter asked if he was swimming outside of the class as well...I really had no idea what was happening and said, 'I'm not sure.'  She said, in no uncertain terms, that it meant a lot to her whether he was or not.  I just said, ok, he is, how much?  Let's see $1.30 plus $2.60...$3.90.  You've got to be kidding?! You're bent about chun-on? (1,000 won/$1.15)?  This would not happen in Seoul.  They'd see Spencer and pay HIM to come into there!  Anyways, what I did with him in the pool was pretty much what the 'instructor' did as well...but she had 3 kids to handle.  I thought he'd be doing lengths or strokes, but I guess not yet.  After swimming I got my wife a Starbucks coffee.  She loves the stuff, and apparently can't justify to herself to buy herself one...those selfless Korean women, bless their hearts.  After I came home there was shopping to do.  I volunteered to go (kudos for me and time to think), then I suggested Spencer come too (thought he'd fall asleep in the car, especially after swimming) then thought we might as well all go (the list she gave me was going to take a couple of people to complete).  Well, the kids stayed up the whole time and I started to realize that this parenting thing is a lot harder when the kids are actually in the country with you (I'm usually in Seoul) and it's just you two (her mother and sister were out of town).  Good God, these kids didn't sleep until 11PM!  Someday they'll make great investment bankers, I mused.  To all those out there who are single parents, or even just parents, get yourself a Starbucks...you may not be able to drink it before it gets cold, but at least you have a piece of luxury in your hand for a few seconds.         \""
      ]
     },
     "execution_count": 19,
     "metadata": {},
     "output_type": "execute_result"
    }
   ],
   "source": [
    "## verification of function\n",
    "a=data[\"text\"].iloc[20]\n",
    "a"
   ]
  },
  {
   "cell_type": "code",
   "execution_count": 20,
   "id": "b6c28cf4",
   "metadata": {},
   "outputs": [
    {
     "data": {
      "text/plain": [
       "\"             Whenever I see a pregnant Korean lady I really feel for her, because I know that within a few months she will have a 3-5 year sentence to complete and utter child-rearing duties.  As with most things Korean, mothers go all out...right from before conception to...well, it never stops.    Today I got a taste of that.  What a day!  My 3-year old (Spencer) woke me up at 9AM (which is early seeing as I still have some jetlag and was up from midnight to 3AM last night).  The younger, Winston, was already up, too.  My wife and I must have fed these kids like 5-7 times during the day, they just never stop!  Spencer and I went to his swimming class.  We get a discount on regular swimming since he's enrolled.  The gal behind the counter asked if he was swimming outside of the class as well...I really had no idea what was happening and said, 'I'm not sure.'  She said, in no uncertain terms, that it meant a lot to her whether he was or not.  I just said, ok, he is, how much?  Let's see $1.30 plus $2.60...$3.90.  You've got to be kidding?! You're bent about chun-on? (1,000 won/$1.15)?  This would not happen in Seoul.  They'd see Spencer and pay HIM to come into there!  Anyways, what I did with him in the pool was pretty much what the 'instructor' did as well...but she had 3 kids to handle.  I thought he'd be doing lengths or strokes, but I guess not yet.  After swimming I got my wife a Starbucks coffee.  She loves the stuff, and apparently can't justify to herself to buy herself one...those selfless Korean women, bless their hearts.  After I came home there was shopping to do.  I volunteered to go (kudos for me and time to think), then I suggested Spencer come too (thought he'd fall asleep in the car, especially after swimming) then thought we might as well all go (the list she gave me was going to take a couple of people to complete).  Well, the kids stayed up the whole time and I started to realize that this parenting thing is a lot harder when the kids are actually in the country with you (I'm usually in Seoul) and it's just you two (her mother and sister were out of town).  Good God, these kids didn't sleep until 11PM!  Someday they'll make great investment bankers, I mused.  To all those out there who are single parents, or even just parents, get yourself a Starbucks...you may not be able to drink it before it gets cold, but at least you have a piece of luxury in your hand for a few seconds.         \""
      ]
     },
     "execution_count": 20,
     "metadata": {},
     "output_type": "execute_result"
    }
   ],
   "source": [
    "removal_non_eng_text_data(a)"
   ]
  },
  {
   "cell_type": "code",
   "execution_count": 21,
   "id": "8243bfae",
   "metadata": {},
   "outputs": [
    {
     "data": {
      "text/plain": [
       "nan"
      ]
     },
     "execution_count": 21,
     "metadata": {},
     "output_type": "execute_result"
    }
   ],
   "source": [
    "## Verification of function\n",
    "a=\"да я вижу беременную кореянку, я действительно сочувствую ей, потому что знаю, что через несколько месяцев она умрет.\"\n",
    "removal_non_eng_text_data(a)"
   ]
  },
  {
   "cell_type": "code",
   "execution_count": 22,
   "id": "04ad8ba1",
   "metadata": {},
   "outputs": [
    {
     "data": {
      "text/plain": [
       "Index(['id', 'gender', 'age', 'topic', 'sign', 'date', 'text'], dtype='object')"
      ]
     },
     "execution_count": 22,
     "metadata": {},
     "output_type": "execute_result"
    }
   ],
   "source": [
    "data.columns"
   ]
  },
  {
   "cell_type": "code",
   "execution_count": 23,
   "id": "f6fc4263",
   "metadata": {},
   "outputs": [],
   "source": [
    "data[\"text\"]=data[\"text\"].apply(removal_non_eng_text_data)"
   ]
  },
  {
   "cell_type": "code",
   "execution_count": 24,
   "id": "f937310e",
   "metadata": {},
   "outputs": [
    {
     "data": {
      "text/plain": [
       "0                  Info has been found (+/- 100 pages,...\n",
       "1                  These are the team members:   Drewe...\n",
       "2                  In het kader van kernfusie op aarde...\n",
       "3                        testing!!!  testing!!!          \n",
       "4                    Thanks to Yahoo!'s Toolbar I can ...\n",
       "                              ...                        \n",
       "1495               Um...testing...testing....  ....is ...\n",
       "1496               hmmm... okay.  that was beautiful w...\n",
       "1497               group:  make sure that when you ref...\n",
       "1498               watch that pendulum swing baby!    ...\n",
       "1499               one final note (for now) on the mar...\n",
       "Name: text, Length: 1500, dtype: object"
      ]
     },
     "execution_count": 24,
     "metadata": {},
     "output_type": "execute_result"
    }
   ],
   "source": [
    "data[\"text\"]"
   ]
  },
  {
   "cell_type": "markdown",
   "id": "dbd14e63",
   "metadata": {},
   "source": [
    "## 2. Preprocess unstructured data to make it consumable for model training. [5 Marks]"
   ]
  },
  {
   "cell_type": "code",
   "execution_count": 25,
   "id": "c65603c1",
   "metadata": {},
   "outputs": [
    {
     "name": "stdout",
     "output_type": "stream",
     "text": [
      "<class 'pandas.core.frame.DataFrame'>\n",
      "RangeIndex: 1500 entries, 0 to 1499\n",
      "Data columns (total 7 columns):\n",
      " #   Column  Non-Null Count  Dtype \n",
      "---  ------  --------------  ----- \n",
      " 0   id      1500 non-null   int64 \n",
      " 1   gender  1500 non-null   object\n",
      " 2   age     1500 non-null   int64 \n",
      " 3   topic   1500 non-null   object\n",
      " 4   sign    1500 non-null   object\n",
      " 5   date    1500 non-null   object\n",
      " 6   text    1450 non-null   object\n",
      "dtypes: int64(2), object(5)\n",
      "memory usage: 82.2+ KB\n"
     ]
    }
   ],
   "source": [
    "## Handling non english text with nan values inserted nan values in text column\n",
    "data.info()"
   ]
  },
  {
   "cell_type": "code",
   "execution_count": 26,
   "id": "024ac542",
   "metadata": {},
   "outputs": [],
   "source": [
    "### Need to drop nan values before further procession\n",
    "data_copy=data.copy()\n",
    "data_copy.dropna(axis=0,inplace=True)"
   ]
  },
  {
   "cell_type": "code",
   "execution_count": 27,
   "id": "fbe6f30c",
   "metadata": {},
   "outputs": [
    {
     "data": {
      "text/plain": [
       "id        0\n",
       "gender    0\n",
       "age       0\n",
       "topic     0\n",
       "sign      0\n",
       "date      0\n",
       "text      0\n",
       "dtype: int64"
      ]
     },
     "execution_count": 27,
     "metadata": {},
     "output_type": "execute_result"
    }
   ],
   "source": [
    "data_copy.isnull().sum()"
   ]
  },
  {
   "cell_type": "code",
   "execution_count": 28,
   "id": "e539f950",
   "metadata": {},
   "outputs": [
    {
     "name": "stdout",
     "output_type": "stream",
     "text": [
      "<class 'pandas.core.frame.DataFrame'>\n",
      "Int64Index: 1450 entries, 0 to 1499\n",
      "Data columns (total 7 columns):\n",
      " #   Column  Non-Null Count  Dtype \n",
      "---  ------  --------------  ----- \n",
      " 0   id      1450 non-null   int64 \n",
      " 1   gender  1450 non-null   object\n",
      " 2   age     1450 non-null   int64 \n",
      " 3   topic   1450 non-null   object\n",
      " 4   sign    1450 non-null   object\n",
      " 5   date    1450 non-null   object\n",
      " 6   text    1450 non-null   object\n",
      "dtypes: int64(2), object(5)\n",
      "memory usage: 90.6+ KB\n"
     ]
    }
   ],
   "source": [
    "data_copy.info()"
   ]
  },
  {
   "cell_type": "markdown",
   "id": "79c95fd3",
   "metadata": {},
   "source": [
    "### 2.A. Eliminate All special Characters and Numbers [2 Marks]"
   ]
  },
  {
   "cell_type": "code",
   "execution_count": 29,
   "id": "30bbe354",
   "metadata": {},
   "outputs": [],
   "source": [
    "## A. Eliminate All special Characters and Numbers\n",
    "import re\n",
    "pattern = \"[^\\w ]\" ### pattern to remove all characters except alphanumeric\n",
    "data_copy[\"text\"]= data_copy[\"text\"].apply(lambda s : re.sub(pattern,\"\",s))"
   ]
  },
  {
   "cell_type": "markdown",
   "id": "52cfdd9c",
   "metadata": {},
   "source": [
    "### 2.B. Lowercase all textual data [1 Marks]"
   ]
  },
  {
   "cell_type": "code",
   "execution_count": 30,
   "id": "028b2bbb",
   "metadata": {},
   "outputs": [],
   "source": [
    "data_copy[\"text\"]=data_copy[\"text\"].apply(lambda s: s.lower())"
   ]
  },
  {
   "cell_type": "code",
   "execution_count": 31,
   "id": "847a4807",
   "metadata": {},
   "outputs": [
    {
     "data": {
      "text/html": [
       "<div>\n",
       "<style scoped>\n",
       "    .dataframe tbody tr th:only-of-type {\n",
       "        vertical-align: middle;\n",
       "    }\n",
       "\n",
       "    .dataframe tbody tr th {\n",
       "        vertical-align: top;\n",
       "    }\n",
       "\n",
       "    .dataframe thead th {\n",
       "        text-align: right;\n",
       "    }\n",
       "</style>\n",
       "<table border=\"1\" class=\"dataframe\">\n",
       "  <thead>\n",
       "    <tr style=\"text-align: right;\">\n",
       "      <th></th>\n",
       "      <th>id</th>\n",
       "      <th>gender</th>\n",
       "      <th>age</th>\n",
       "      <th>topic</th>\n",
       "      <th>sign</th>\n",
       "      <th>date</th>\n",
       "      <th>text</th>\n",
       "    </tr>\n",
       "  </thead>\n",
       "  <tbody>\n",
       "    <tr>\n",
       "      <th>0</th>\n",
       "      <td>2059027</td>\n",
       "      <td>male</td>\n",
       "      <td>15</td>\n",
       "      <td>Student</td>\n",
       "      <td>Leo</td>\n",
       "      <td>14,May,2004</td>\n",
       "      <td>info has been found  100 pages and ...</td>\n",
       "    </tr>\n",
       "    <tr>\n",
       "      <th>1</th>\n",
       "      <td>2059027</td>\n",
       "      <td>male</td>\n",
       "      <td>15</td>\n",
       "      <td>Student</td>\n",
       "      <td>Leo</td>\n",
       "      <td>13,May,2004</td>\n",
       "      <td>these are the team members   drewes...</td>\n",
       "    </tr>\n",
       "    <tr>\n",
       "      <th>2</th>\n",
       "      <td>2059027</td>\n",
       "      <td>male</td>\n",
       "      <td>15</td>\n",
       "      <td>Student</td>\n",
       "      <td>Leo</td>\n",
       "      <td>12,May,2004</td>\n",
       "      <td>in het kader van kernfusie op aarde...</td>\n",
       "    </tr>\n",
       "    <tr>\n",
       "      <th>3</th>\n",
       "      <td>2059027</td>\n",
       "      <td>male</td>\n",
       "      <td>15</td>\n",
       "      <td>Student</td>\n",
       "      <td>Leo</td>\n",
       "      <td>12,May,2004</td>\n",
       "      <td>testing  testing</td>\n",
       "    </tr>\n",
       "    <tr>\n",
       "      <th>4</th>\n",
       "      <td>3581210</td>\n",
       "      <td>male</td>\n",
       "      <td>33</td>\n",
       "      <td>InvestmentBanking</td>\n",
       "      <td>Aquarius</td>\n",
       "      <td>11,June,2004</td>\n",
       "      <td>thanks to yahoos toolbar i can no...</td>\n",
       "    </tr>\n",
       "  </tbody>\n",
       "</table>\n",
       "</div>"
      ],
      "text/plain": [
       "        id gender  age              topic      sign          date  \\\n",
       "0  2059027   male   15            Student       Leo   14,May,2004   \n",
       "1  2059027   male   15            Student       Leo   13,May,2004   \n",
       "2  2059027   male   15            Student       Leo   12,May,2004   \n",
       "3  2059027   male   15            Student       Leo   12,May,2004   \n",
       "4  3581210   male   33  InvestmentBanking  Aquarius  11,June,2004   \n",
       "\n",
       "                                                text  \n",
       "0             info has been found  100 pages and ...  \n",
       "1             these are the team members   drewes...  \n",
       "2             in het kader van kernfusie op aarde...  \n",
       "3                         testing  testing            \n",
       "4               thanks to yahoos toolbar i can no...  "
      ]
     },
     "execution_count": 31,
     "metadata": {},
     "output_type": "execute_result"
    }
   ],
   "source": [
    "data_copy.head()"
   ]
  },
  {
   "cell_type": "markdown",
   "id": "e35e8ce8",
   "metadata": {},
   "source": [
    "### 2.C. Remove all Stopwords [1 Marks]"
   ]
  },
  {
   "cell_type": "code",
   "execution_count": 32,
   "id": "118716d2",
   "metadata": {},
   "outputs": [
    {
     "name": "stderr",
     "output_type": "stream",
     "text": [
      "[nltk_data] Downloading package stopwords to\n",
      "[nltk_data]     /Users/ishantkundra/nltk_data...\n",
      "[nltk_data]   Package stopwords is already up-to-date!\n"
     ]
    },
    {
     "data": {
      "text/plain": [
       "True"
      ]
     },
     "execution_count": 32,
     "metadata": {},
     "output_type": "execute_result"
    }
   ],
   "source": [
    "import nltk\n",
    "nltk.download('stopwords')"
   ]
  },
  {
   "cell_type": "code",
   "execution_count": 33,
   "id": "53e12bdc",
   "metadata": {},
   "outputs": [],
   "source": [
    "from nltk.corpus import stopwords"
   ]
  },
  {
   "cell_type": "code",
   "execution_count": 34,
   "id": "a4b95ee1",
   "metadata": {},
   "outputs": [],
   "source": [
    "## create set of stopwords\n",
    "stopwords=set(stopwords.words('english'))"
   ]
  },
  {
   "cell_type": "code",
   "execution_count": 35,
   "id": "6db119a5",
   "metadata": {},
   "outputs": [],
   "source": [
    "data_copy[\"text\"]=data_copy[\"text\"].apply(lambda s:\" \".join([word for word in s.split() if word not in stopwords]))"
   ]
  },
  {
   "cell_type": "code",
   "execution_count": 36,
   "id": "1023a719",
   "metadata": {},
   "outputs": [
    {
     "data": {
      "text/html": [
       "<div>\n",
       "<style scoped>\n",
       "    .dataframe tbody tr th:only-of-type {\n",
       "        vertical-align: middle;\n",
       "    }\n",
       "\n",
       "    .dataframe tbody tr th {\n",
       "        vertical-align: top;\n",
       "    }\n",
       "\n",
       "    .dataframe thead th {\n",
       "        text-align: right;\n",
       "    }\n",
       "</style>\n",
       "<table border=\"1\" class=\"dataframe\">\n",
       "  <thead>\n",
       "    <tr style=\"text-align: right;\">\n",
       "      <th></th>\n",
       "      <th>id</th>\n",
       "      <th>gender</th>\n",
       "      <th>age</th>\n",
       "      <th>topic</th>\n",
       "      <th>sign</th>\n",
       "      <th>date</th>\n",
       "      <th>text</th>\n",
       "    </tr>\n",
       "  </thead>\n",
       "  <tbody>\n",
       "    <tr>\n",
       "      <th>0</th>\n",
       "      <td>2059027</td>\n",
       "      <td>male</td>\n",
       "      <td>15</td>\n",
       "      <td>Student</td>\n",
       "      <td>Leo</td>\n",
       "      <td>14,May,2004</td>\n",
       "      <td>info found 100 pages 45 mb pdf files wait unti...</td>\n",
       "    </tr>\n",
       "    <tr>\n",
       "      <th>1</th>\n",
       "      <td>2059027</td>\n",
       "      <td>male</td>\n",
       "      <td>15</td>\n",
       "      <td>Student</td>\n",
       "      <td>Leo</td>\n",
       "      <td>13,May,2004</td>\n",
       "      <td>team members drewes van der laag urllink mail ...</td>\n",
       "    </tr>\n",
       "    <tr>\n",
       "      <th>2</th>\n",
       "      <td>2059027</td>\n",
       "      <td>male</td>\n",
       "      <td>15</td>\n",
       "      <td>Student</td>\n",
       "      <td>Leo</td>\n",
       "      <td>12,May,2004</td>\n",
       "      <td>het kader van kernfusie op aarde maak je eigen...</td>\n",
       "    </tr>\n",
       "    <tr>\n",
       "      <th>3</th>\n",
       "      <td>2059027</td>\n",
       "      <td>male</td>\n",
       "      <td>15</td>\n",
       "      <td>Student</td>\n",
       "      <td>Leo</td>\n",
       "      <td>12,May,2004</td>\n",
       "      <td>testing testing</td>\n",
       "    </tr>\n",
       "    <tr>\n",
       "      <th>4</th>\n",
       "      <td>3581210</td>\n",
       "      <td>male</td>\n",
       "      <td>33</td>\n",
       "      <td>InvestmentBanking</td>\n",
       "      <td>Aquarius</td>\n",
       "      <td>11,June,2004</td>\n",
       "      <td>thanks yahoos toolbar capture urls popupswhich...</td>\n",
       "    </tr>\n",
       "  </tbody>\n",
       "</table>\n",
       "</div>"
      ],
      "text/plain": [
       "        id gender  age              topic      sign          date  \\\n",
       "0  2059027   male   15            Student       Leo   14,May,2004   \n",
       "1  2059027   male   15            Student       Leo   13,May,2004   \n",
       "2  2059027   male   15            Student       Leo   12,May,2004   \n",
       "3  2059027   male   15            Student       Leo   12,May,2004   \n",
       "4  3581210   male   33  InvestmentBanking  Aquarius  11,June,2004   \n",
       "\n",
       "                                                text  \n",
       "0  info found 100 pages 45 mb pdf files wait unti...  \n",
       "1  team members drewes van der laag urllink mail ...  \n",
       "2  het kader van kernfusie op aarde maak je eigen...  \n",
       "3                                    testing testing  \n",
       "4  thanks yahoos toolbar capture urls popupswhich...  "
      ]
     },
     "execution_count": 36,
     "metadata": {},
     "output_type": "execute_result"
    }
   ],
   "source": [
    "data_copy.head()"
   ]
  },
  {
   "cell_type": "markdown",
   "id": "df5c971e",
   "metadata": {},
   "source": [
    "### 2.D. Remove all extra white spaces [1 Marks]"
   ]
  },
  {
   "cell_type": "code",
   "execution_count": 37,
   "id": "af1ff7b3",
   "metadata": {},
   "outputs": [],
   "source": [
    "data_copy[\"text\"]=data_copy[\"text\"].apply(lambda s: s.strip())"
   ]
  },
  {
   "cell_type": "code",
   "execution_count": 38,
   "id": "ee1343a7",
   "metadata": {},
   "outputs": [
    {
     "data": {
      "text/html": [
       "<div>\n",
       "<style scoped>\n",
       "    .dataframe tbody tr th:only-of-type {\n",
       "        vertical-align: middle;\n",
       "    }\n",
       "\n",
       "    .dataframe tbody tr th {\n",
       "        vertical-align: top;\n",
       "    }\n",
       "\n",
       "    .dataframe thead th {\n",
       "        text-align: right;\n",
       "    }\n",
       "</style>\n",
       "<table border=\"1\" class=\"dataframe\">\n",
       "  <thead>\n",
       "    <tr style=\"text-align: right;\">\n",
       "      <th></th>\n",
       "      <th>id</th>\n",
       "      <th>gender</th>\n",
       "      <th>age</th>\n",
       "      <th>topic</th>\n",
       "      <th>sign</th>\n",
       "      <th>date</th>\n",
       "      <th>text</th>\n",
       "    </tr>\n",
       "  </thead>\n",
       "  <tbody>\n",
       "    <tr>\n",
       "      <th>0</th>\n",
       "      <td>2059027</td>\n",
       "      <td>male</td>\n",
       "      <td>15</td>\n",
       "      <td>Student</td>\n",
       "      <td>Leo</td>\n",
       "      <td>14,May,2004</td>\n",
       "      <td>info found 100 pages 45 mb pdf files wait unti...</td>\n",
       "    </tr>\n",
       "    <tr>\n",
       "      <th>1</th>\n",
       "      <td>2059027</td>\n",
       "      <td>male</td>\n",
       "      <td>15</td>\n",
       "      <td>Student</td>\n",
       "      <td>Leo</td>\n",
       "      <td>13,May,2004</td>\n",
       "      <td>team members drewes van der laag urllink mail ...</td>\n",
       "    </tr>\n",
       "    <tr>\n",
       "      <th>2</th>\n",
       "      <td>2059027</td>\n",
       "      <td>male</td>\n",
       "      <td>15</td>\n",
       "      <td>Student</td>\n",
       "      <td>Leo</td>\n",
       "      <td>12,May,2004</td>\n",
       "      <td>het kader van kernfusie op aarde maak je eigen...</td>\n",
       "    </tr>\n",
       "    <tr>\n",
       "      <th>3</th>\n",
       "      <td>2059027</td>\n",
       "      <td>male</td>\n",
       "      <td>15</td>\n",
       "      <td>Student</td>\n",
       "      <td>Leo</td>\n",
       "      <td>12,May,2004</td>\n",
       "      <td>testing testing</td>\n",
       "    </tr>\n",
       "    <tr>\n",
       "      <th>4</th>\n",
       "      <td>3581210</td>\n",
       "      <td>male</td>\n",
       "      <td>33</td>\n",
       "      <td>InvestmentBanking</td>\n",
       "      <td>Aquarius</td>\n",
       "      <td>11,June,2004</td>\n",
       "      <td>thanks yahoos toolbar capture urls popupswhich...</td>\n",
       "    </tr>\n",
       "  </tbody>\n",
       "</table>\n",
       "</div>"
      ],
      "text/plain": [
       "        id gender  age              topic      sign          date  \\\n",
       "0  2059027   male   15            Student       Leo   14,May,2004   \n",
       "1  2059027   male   15            Student       Leo   13,May,2004   \n",
       "2  2059027   male   15            Student       Leo   12,May,2004   \n",
       "3  2059027   male   15            Student       Leo   12,May,2004   \n",
       "4  3581210   male   33  InvestmentBanking  Aquarius  11,June,2004   \n",
       "\n",
       "                                                text  \n",
       "0  info found 100 pages 45 mb pdf files wait unti...  \n",
       "1  team members drewes van der laag urllink mail ...  \n",
       "2  het kader van kernfusie op aarde maak je eigen...  \n",
       "3                                    testing testing  \n",
       "4  thanks yahoos toolbar capture urls popupswhich...  "
      ]
     },
     "execution_count": 38,
     "metadata": {},
     "output_type": "execute_result"
    }
   ],
   "source": [
    "data_copy.head()"
   ]
  },
  {
   "cell_type": "code",
   "execution_count": 39,
   "id": "953ea766",
   "metadata": {},
   "outputs": [
    {
     "data": {
      "text/plain": [
       "192468"
      ]
     },
     "execution_count": 39,
     "metadata": {},
     "output_type": "execute_result"
    }
   ],
   "source": [
    "data_copy['text'].apply(lambda x: len(x.split(' '))).sum()"
   ]
  },
  {
   "cell_type": "markdown",
   "id": "4493a8d8",
   "metadata": {},
   "source": [
    "## 3. Build a base Classification model [8 Marks]\n"
   ]
  },
  {
   "cell_type": "markdown",
   "id": "8fa06449",
   "metadata": {},
   "source": [
    "### 3.A. Create dependent and independent variables [2 Marks] Hint: Treat ‘topic’ as a Target variable."
   ]
  },
  {
   "cell_type": "markdown",
   "id": "7a822a20",
   "metadata": {},
   "source": [
    "### 3.E. Clearly print Performance Metrics. [1 Marks]"
   ]
  },
  {
   "cell_type": "code",
   "execution_count": 40,
   "id": "67148e95",
   "metadata": {},
   "outputs": [
    {
     "data": {
      "text/plain": [
       "['Student',\n",
       " 'InvestmentBanking',\n",
       " 'indUnk',\n",
       " 'Non-Profit',\n",
       " 'Banking',\n",
       " 'Education',\n",
       " 'Engineering',\n",
       " 'Science',\n",
       " 'Communications-Media',\n",
       " 'BusinessServices',\n",
       " 'Sports-Recreation',\n",
       " 'Arts',\n",
       " 'Internet',\n",
       " 'Museums-Libraries',\n",
       " 'Accounting',\n",
       " 'Technology']"
      ]
     },
     "execution_count": 40,
     "metadata": {},
     "output_type": "execute_result"
    }
   ],
   "source": [
    "## List of topics\n",
    "list_label=list(data[\"topic\"].unique())\n",
    "list_label"
   ]
  },
  {
   "cell_type": "code",
   "execution_count": 41,
   "id": "25b15e1e",
   "metadata": {},
   "outputs": [],
   "source": [
    "## Code to gnerate dictionary storing numerical values for each topic\n",
    "label_dict={}  ## Empty Dictionary crearted to define numriacal values for unique topic\n",
    "i=1\n",
    "for key in list_label:\n",
    "  label_dict[key]=i\n",
    "  i+=1"
   ]
  },
  {
   "cell_type": "code",
   "execution_count": 42,
   "id": "467921a6",
   "metadata": {},
   "outputs": [
    {
     "data": {
      "text/plain": [
       "{'Student': 1,\n",
       " 'InvestmentBanking': 2,\n",
       " 'indUnk': 3,\n",
       " 'Non-Profit': 4,\n",
       " 'Banking': 5,\n",
       " 'Education': 6,\n",
       " 'Engineering': 7,\n",
       " 'Science': 8,\n",
       " 'Communications-Media': 9,\n",
       " 'BusinessServices': 10,\n",
       " 'Sports-Recreation': 11,\n",
       " 'Arts': 12,\n",
       " 'Internet': 13,\n",
       " 'Museums-Libraries': 14,\n",
       " 'Accounting': 15,\n",
       " 'Technology': 16}"
      ]
     },
     "execution_count": 42,
     "metadata": {},
     "output_type": "execute_result"
    }
   ],
   "source": [
    "label_dict"
   ]
  },
  {
   "cell_type": "code",
   "execution_count": 43,
   "id": "9f24cb8a",
   "metadata": {},
   "outputs": [],
   "source": [
    "## Column is label_ID is created\n",
    "data_copy[\"label_ID\"]=data_copy[\"topic\"]"
   ]
  },
  {
   "cell_type": "code",
   "execution_count": 44,
   "id": "fbf3af45",
   "metadata": {},
   "outputs": [],
   "source": [
    "## In label_ID column, assigned values to topics \n",
    "for i in label_dict.keys():\n",
    "  data_copy[\"label_ID\"] = data_copy[\"label_ID\"].replace(i,label_dict[i])"
   ]
  },
  {
   "cell_type": "code",
   "execution_count": 45,
   "id": "529a9813",
   "metadata": {},
   "outputs": [
    {
     "data": {
      "text/html": [
       "<div>\n",
       "<style scoped>\n",
       "    .dataframe tbody tr th:only-of-type {\n",
       "        vertical-align: middle;\n",
       "    }\n",
       "\n",
       "    .dataframe tbody tr th {\n",
       "        vertical-align: top;\n",
       "    }\n",
       "\n",
       "    .dataframe thead th {\n",
       "        text-align: right;\n",
       "    }\n",
       "</style>\n",
       "<table border=\"1\" class=\"dataframe\">\n",
       "  <thead>\n",
       "    <tr style=\"text-align: right;\">\n",
       "      <th></th>\n",
       "      <th>id</th>\n",
       "      <th>gender</th>\n",
       "      <th>age</th>\n",
       "      <th>topic</th>\n",
       "      <th>sign</th>\n",
       "      <th>date</th>\n",
       "      <th>text</th>\n",
       "      <th>label_ID</th>\n",
       "    </tr>\n",
       "  </thead>\n",
       "  <tbody>\n",
       "    <tr>\n",
       "      <th>1490</th>\n",
       "      <td>589736</td>\n",
       "      <td>male</td>\n",
       "      <td>35</td>\n",
       "      <td>Technology</td>\n",
       "      <td>Aries</td>\n",
       "      <td>05,August,2004</td>\n",
       "      <td>argument absolutes seems subjective universe o...</td>\n",
       "      <td>16</td>\n",
       "    </tr>\n",
       "    <tr>\n",
       "      <th>1491</th>\n",
       "      <td>589736</td>\n",
       "      <td>male</td>\n",
       "      <td>35</td>\n",
       "      <td>Technology</td>\n",
       "      <td>Aries</td>\n",
       "      <td>05,August,2004</td>\n",
       "      <td>well folks wont get commentary next days im go...</td>\n",
       "      <td>16</td>\n",
       "    </tr>\n",
       "    <tr>\n",
       "      <th>1492</th>\n",
       "      <td>589736</td>\n",
       "      <td>male</td>\n",
       "      <td>35</td>\n",
       "      <td>Technology</td>\n",
       "      <td>Aries</td>\n",
       "      <td>05,August,2004</td>\n",
       "      <td>thanks mir first could see links forgot scoll ...</td>\n",
       "      <td>16</td>\n",
       "    </tr>\n",
       "    <tr>\n",
       "      <th>1493</th>\n",
       "      <td>589736</td>\n",
       "      <td>male</td>\n",
       "      <td>35</td>\n",
       "      <td>Technology</td>\n",
       "      <td>Aries</td>\n",
       "      <td>05,August,2004</td>\n",
       "      <td>love smile enter secret city ben already told ...</td>\n",
       "      <td>16</td>\n",
       "    </tr>\n",
       "    <tr>\n",
       "      <th>1494</th>\n",
       "      <td>589736</td>\n",
       "      <td>male</td>\n",
       "      <td>35</td>\n",
       "      <td>Technology</td>\n",
       "      <td>Aries</td>\n",
       "      <td>05,August,2004</td>\n",
       "      <td>sercet city indeed secret find enter sercet ci...</td>\n",
       "      <td>16</td>\n",
       "    </tr>\n",
       "    <tr>\n",
       "      <th>1495</th>\n",
       "      <td>589736</td>\n",
       "      <td>male</td>\n",
       "      <td>35</td>\n",
       "      <td>Technology</td>\n",
       "      <td>Aries</td>\n",
       "      <td>05,August,2004</td>\n",
       "      <td>umtestingtesting thing hello world ben post</td>\n",
       "      <td>16</td>\n",
       "    </tr>\n",
       "    <tr>\n",
       "      <th>1496</th>\n",
       "      <td>589736</td>\n",
       "      <td>male</td>\n",
       "      <td>35</td>\n",
       "      <td>Technology</td>\n",
       "      <td>Aries</td>\n",
       "      <td>05,August,2004</td>\n",
       "      <td>hmmm okay beautiful referring comments city ni...</td>\n",
       "      <td>16</td>\n",
       "    </tr>\n",
       "    <tr>\n",
       "      <th>1497</th>\n",
       "      <td>589736</td>\n",
       "      <td>male</td>\n",
       "      <td>35</td>\n",
       "      <td>Technology</td>\n",
       "      <td>Aries</td>\n",
       "      <td>05,August,2004</td>\n",
       "      <td>group make sure refer respond information sour...</td>\n",
       "      <td>16</td>\n",
       "    </tr>\n",
       "    <tr>\n",
       "      <th>1498</th>\n",
       "      <td>589736</td>\n",
       "      <td>male</td>\n",
       "      <td>35</td>\n",
       "      <td>Technology</td>\n",
       "      <td>Aries</td>\n",
       "      <td>05,August,2004</td>\n",
       "      <td>watch pendulum swing baby favorite quotes new ...</td>\n",
       "      <td>16</td>\n",
       "    </tr>\n",
       "    <tr>\n",
       "      <th>1499</th>\n",
       "      <td>589736</td>\n",
       "      <td>male</td>\n",
       "      <td>35</td>\n",
       "      <td>Technology</td>\n",
       "      <td>Aries</td>\n",
       "      <td>05,August,2004</td>\n",
       "      <td>one final note marriage solution issue yes thi...</td>\n",
       "      <td>16</td>\n",
       "    </tr>\n",
       "  </tbody>\n",
       "</table>\n",
       "</div>"
      ],
      "text/plain": [
       "          id gender  age       topic   sign            date  \\\n",
       "1490  589736   male   35  Technology  Aries  05,August,2004   \n",
       "1491  589736   male   35  Technology  Aries  05,August,2004   \n",
       "1492  589736   male   35  Technology  Aries  05,August,2004   \n",
       "1493  589736   male   35  Technology  Aries  05,August,2004   \n",
       "1494  589736   male   35  Technology  Aries  05,August,2004   \n",
       "1495  589736   male   35  Technology  Aries  05,August,2004   \n",
       "1496  589736   male   35  Technology  Aries  05,August,2004   \n",
       "1497  589736   male   35  Technology  Aries  05,August,2004   \n",
       "1498  589736   male   35  Technology  Aries  05,August,2004   \n",
       "1499  589736   male   35  Technology  Aries  05,August,2004   \n",
       "\n",
       "                                                   text  label_ID  \n",
       "1490  argument absolutes seems subjective universe o...        16  \n",
       "1491  well folks wont get commentary next days im go...        16  \n",
       "1492  thanks mir first could see links forgot scoll ...        16  \n",
       "1493  love smile enter secret city ben already told ...        16  \n",
       "1494  sercet city indeed secret find enter sercet ci...        16  \n",
       "1495        umtestingtesting thing hello world ben post        16  \n",
       "1496  hmmm okay beautiful referring comments city ni...        16  \n",
       "1497  group make sure refer respond information sour...        16  \n",
       "1498  watch pendulum swing baby favorite quotes new ...        16  \n",
       "1499  one final note marriage solution issue yes thi...        16  "
      ]
     },
     "execution_count": 45,
     "metadata": {},
     "output_type": "execute_result"
    }
   ],
   "source": [
    "data_copy.tail(10)"
   ]
  },
  {
   "cell_type": "code",
   "execution_count": 46,
   "id": "5c3d5b04",
   "metadata": {},
   "outputs": [
    {
     "data": {
      "text/plain": [
       "16"
      ]
     },
     "execution_count": 46,
     "metadata": {},
     "output_type": "execute_result"
    }
   ],
   "source": [
    "data_copy[\"topic\"].nunique()"
   ]
  },
  {
   "cell_type": "code",
   "execution_count": 47,
   "id": "559270c4",
   "metadata": {},
   "outputs": [
    {
     "data": {
      "text/plain": [
       "16"
      ]
     },
     "execution_count": 47,
     "metadata": {},
     "output_type": "execute_result"
    }
   ],
   "source": [
    "data_copy[\"label_ID\"].nunique()"
   ]
  },
  {
   "cell_type": "code",
   "execution_count": 48,
   "id": "8c18773e",
   "metadata": {},
   "outputs": [
    {
     "data": {
      "text/plain": [
       "array(['Student', 'InvestmentBanking', 'indUnk', 'Non-Profit', 'Banking',\n",
       "       'Education', 'Engineering', 'Science', 'Communications-Media',\n",
       "       'BusinessServices', 'Sports-Recreation', 'Arts', 'Internet',\n",
       "       'Museums-Libraries', 'Accounting', 'Technology'], dtype=object)"
      ]
     },
     "execution_count": 48,
     "metadata": {},
     "output_type": "execute_result"
    }
   ],
   "source": [
    "data_copy[\"topic\"].unique()"
   ]
  },
  {
   "cell_type": "markdown",
   "id": "1d4c3329",
   "metadata": {},
   "source": [
    "### 3.B. Split data into train and test. [1 Marks]"
   ]
  },
  {
   "cell_type": "code",
   "execution_count": 49,
   "id": "8807e030",
   "metadata": {},
   "outputs": [
    {
     "data": {
      "text/plain": [
       "0    info found 100 pages 45 mb pdf files wait unti...\n",
       "1    team members drewes van der laag urllink mail ...\n",
       "2    het kader van kernfusie op aarde maak je eigen...\n",
       "3                                      testing testing\n",
       "4    thanks yahoos toolbar capture urls popupswhich...\n",
       "Name: text, dtype: object"
      ]
     },
     "execution_count": 49,
     "metadata": {},
     "output_type": "execute_result"
    }
   ],
   "source": [
    "## Independent variable\n",
    "x=data_copy[\"text\"]\n",
    "x.head()"
   ]
  },
  {
   "cell_type": "code",
   "execution_count": 50,
   "id": "e9005643",
   "metadata": {},
   "outputs": [
    {
     "data": {
      "text/plain": [
       "0"
      ]
     },
     "execution_count": 50,
     "metadata": {},
     "output_type": "execute_result"
    }
   ],
   "source": [
    "x.isnull().sum()"
   ]
  },
  {
   "cell_type": "code",
   "execution_count": 51,
   "id": "0a823dac",
   "metadata": {},
   "outputs": [
    {
     "data": {
      "text/plain": [
       "pandas.core.series.Series"
      ]
     },
     "execution_count": 51,
     "metadata": {},
     "output_type": "execute_result"
    }
   ],
   "source": [
    "type(x)"
   ]
  },
  {
   "cell_type": "code",
   "execution_count": 52,
   "id": "bd6f7c9b",
   "metadata": {},
   "outputs": [
    {
     "data": {
      "text/plain": [
       "0    1\n",
       "1    1\n",
       "2    1\n",
       "3    1\n",
       "4    2\n",
       "Name: label_ID, dtype: int64"
      ]
     },
     "execution_count": 52,
     "metadata": {},
     "output_type": "execute_result"
    }
   ],
   "source": [
    "## Dependent variable\n",
    "y=data_copy[\"label_ID\"]\n",
    "y.head()"
   ]
  },
  {
   "cell_type": "code",
   "execution_count": 53,
   "id": "8a6096fb",
   "metadata": {},
   "outputs": [
    {
     "data": {
      "text/plain": [
       "array([ 1,  1,  1, ..., 16, 16, 16])"
      ]
     },
     "execution_count": 53,
     "metadata": {},
     "output_type": "execute_result"
    }
   ],
   "source": [
    "## Converted label_ID column into array\n",
    "y=np.array(data_copy[\"label_ID\"])\n",
    "y"
   ]
  },
  {
   "cell_type": "markdown",
   "id": "dc41ae3a",
   "metadata": {},
   "source": [
    "### 3.C. Vectorize data using any one vectorizer. [2 Marks]"
   ]
  },
  {
   "cell_type": "code",
   "execution_count": 54,
   "id": "6fcf5cda",
   "metadata": {},
   "outputs": [],
   "source": [
    "## wordembedding through countvectorizer\n",
    "from sklearn.feature_extraction.text import CountVectorizer"
   ]
  },
  {
   "cell_type": "code",
   "execution_count": 55,
   "id": "3c222e9d",
   "metadata": {},
   "outputs": [],
   "source": [
    "cv=CountVectorizer(ngram_range=(1, 2))"
   ]
  },
  {
   "cell_type": "code",
   "execution_count": 56,
   "id": "92d2054f",
   "metadata": {},
   "outputs": [],
   "source": [
    "x_vect=cv.fit_transform(x)  ### After applying word embedding"
   ]
  },
  {
   "cell_type": "code",
   "execution_count": 57,
   "id": "964a2a1d",
   "metadata": {},
   "outputs": [
    {
     "data": {
      "text/plain": [
       "(1450, 183427)"
      ]
     },
     "execution_count": 57,
     "metadata": {},
     "output_type": "execute_result"
    }
   ],
   "source": [
    "x_vect.shape"
   ]
  },
  {
   "cell_type": "code",
   "execution_count": 58,
   "id": "dbacf01b",
   "metadata": {},
   "outputs": [
    {
     "data": {
      "text/plain": [
       "<1450x183427 sparse matrix of type '<class 'numpy.int64'>'\n",
       "\twith 331107 stored elements in Compressed Sparse Row format>"
      ]
     },
     "execution_count": 58,
     "metadata": {},
     "output_type": "execute_result"
    }
   ],
   "source": [
    "x_vect"
   ]
  },
  {
   "cell_type": "code",
   "execution_count": 59,
   "id": "180b533d",
   "metadata": {},
   "outputs": [],
   "source": [
    "x=x_vect.toarray()  ## converted into array"
   ]
  },
  {
   "cell_type": "markdown",
   "id": "1a11a422",
   "metadata": {},
   "source": [
    "### 3.B. Split data into train and test. [1 Marks]"
   ]
  },
  {
   "cell_type": "code",
   "execution_count": 60,
   "id": "1cf9f182",
   "metadata": {},
   "outputs": [],
   "source": [
    "from sklearn.model_selection import train_test_split\n",
    "X_train, X_test, y_train, y_test = train_test_split(x,y, random_state=2, test_size = 0.2)"
   ]
  },
  {
   "cell_type": "code",
   "execution_count": 61,
   "id": "47b561a8",
   "metadata": {},
   "outputs": [
    {
     "data": {
      "text/plain": [
       "(1160, 183427)"
      ]
     },
     "execution_count": 61,
     "metadata": {},
     "output_type": "execute_result"
    }
   ],
   "source": [
    "X_train.shape"
   ]
  },
  {
   "cell_type": "code",
   "execution_count": 62,
   "id": "70a4e58f",
   "metadata": {},
   "outputs": [
    {
     "data": {
      "text/plain": [
       "(1160,)"
      ]
     },
     "execution_count": 62,
     "metadata": {},
     "output_type": "execute_result"
    }
   ],
   "source": [
    "y_train.shape"
   ]
  },
  {
   "cell_type": "code",
   "execution_count": 63,
   "id": "cb3ad0c4",
   "metadata": {},
   "outputs": [
    {
     "data": {
      "text/plain": [
       "(290, 183427)"
      ]
     },
     "execution_count": 63,
     "metadata": {},
     "output_type": "execute_result"
    }
   ],
   "source": [
    "X_test.shape"
   ]
  },
  {
   "cell_type": "code",
   "execution_count": 64,
   "id": "4c8a5b8e",
   "metadata": {},
   "outputs": [
    {
     "data": {
      "text/plain": [
       "(290,)"
      ]
     },
     "execution_count": 64,
     "metadata": {},
     "output_type": "execute_result"
    }
   ],
   "source": [
    "y_test.shape"
   ]
  },
  {
   "cell_type": "markdown",
   "id": "8ec51fb7",
   "metadata": {},
   "source": [
    "### 3.D. Build a base model for Supervised Learning - Classification. [2 Marks]"
   ]
  },
  {
   "cell_type": "code",
   "execution_count": 65,
   "id": "865362ce",
   "metadata": {},
   "outputs": [],
   "source": [
    "from sklearn.metrics import confusion_matrix,accuracy_score,classification_report\n",
    "from sklearn.linear_model import LogisticRegression\n",
    "from sklearn.multiclass import OneVsRestClassifier"
   ]
  },
  {
   "cell_type": "code",
   "execution_count": 66,
   "id": "caad2a54",
   "metadata": {},
   "outputs": [
    {
     "data": {
      "text/plain": [
       "LogisticRegression(multi_class='ovr', solver='liblinear')"
      ]
     },
     "execution_count": 66,
     "metadata": {},
     "output_type": "execute_result"
    }
   ],
   "source": [
    "from sklearn import linear_model\n",
    "lm_cv = linear_model.LogisticRegression(multi_class='ovr', solver='liblinear')\n",
    "lm_cv.fit(X_train, y_train)"
   ]
  },
  {
   "cell_type": "code",
   "execution_count": 67,
   "id": "2fc131dc",
   "metadata": {},
   "outputs": [
    {
     "data": {
      "text/plain": [
       "LogisticRegression(multi_class='ovr')"
      ]
     },
     "execution_count": 67,
     "metadata": {},
     "output_type": "execute_result"
    }
   ],
   "source": [
    "lm_1_cv = linear_model.LogisticRegression(multi_class='ovr', solver='lbfgs')\n",
    "lm_1_cv.fit(X_train,y_train)"
   ]
  },
  {
   "cell_type": "code",
   "execution_count": 68,
   "id": "42d92582",
   "metadata": {},
   "outputs": [
    {
     "name": "stderr",
     "output_type": "stream",
     "text": [
      "/Users/ishantkundra/opt/anaconda3/lib/python3.9/site-packages/sklearn/svm/_base.py:1206: ConvergenceWarning: Liblinear failed to converge, increase the number of iterations.\n",
      "  warnings.warn(\n"
     ]
    },
    {
     "data": {
      "text/plain": [
       "LinearSVC(dual=False, penalty='l1')"
      ]
     },
     "execution_count": 68,
     "metadata": {},
     "output_type": "execute_result"
    }
   ],
   "source": [
    "from sklearn.svm import LinearSVC\n",
    "l_svc_cv = LinearSVC(C=1.0, penalty='l1', dual=False, loss='squared_hinge')\n",
    "l_svc_cv.fit(X_train,y_train)"
   ]
  },
  {
   "cell_type": "code",
   "execution_count": 69,
   "id": "d8f7c3f2",
   "metadata": {},
   "outputs": [
    {
     "data": {
      "text/plain": [
       "KNeighborsClassifier(n_neighbors=3)"
      ]
     },
     "execution_count": 69,
     "metadata": {},
     "output_type": "execute_result"
    }
   ],
   "source": [
    "from sklearn.neighbors import KNeighborsClassifier\n",
    "\n",
    "mdl = KNeighborsClassifier(n_neighbors=3)\n",
    "mdl.fit(X_train,y_train)"
   ]
  },
  {
   "cell_type": "code",
   "execution_count": 70,
   "id": "3b456cfa",
   "metadata": {},
   "outputs": [
    {
     "name": "stdout",
     "output_type": "stream",
     "text": [
      "Accuracy Score - logistic Regression (Count vectoriser and solver='liblinear': 0.5758620689655173\n",
      "Accuracy Score - logistic Regression (Count vectoriser and solver='lbfgs': 0.5758620689655173\n",
      "Accuracy Score - SVM ( Count vectoriser): 0.5689655172413793\n",
      "Accuracy Score - knn ( Count vectoriser): 0.27241379310344827\n"
     ]
    }
   ],
   "source": [
    "y_pred_lm_cv=lm_cv.predict(X_test)\n",
    "print(\"Accuracy Score - logistic Regression (Count vectoriser and solver='liblinear':\", accuracy_score(y_test,y_pred_lm_cv))\n",
    "y_pred_lm1_cv=lm_1_cv.predict(X_test)\n",
    "print(\"Accuracy Score - logistic Regression (Count vectoriser and solver='lbfgs':\",accuracy_score(y_test,y_pred_lm1_cv))\n",
    "y_pred_svc_cv=l_svc_cv.predict(X_test)\n",
    "print(\"Accuracy Score - SVM ( Count vectoriser):\",accuracy_score(y_test,y_pred_svc_cv))\n",
    "y_pred_knn_cv=mdl.predict(X_test)\n",
    "print(\"Accuracy Score - knn ( Count vectoriser):\",accuracy_score(y_test,y_pred_knn_cv))"
   ]
  },
  {
   "cell_type": "code",
   "execution_count": 71,
   "id": "474a97d2",
   "metadata": {},
   "outputs": [
    {
     "name": "stdout",
     "output_type": "stream",
     "text": [
      "Confusion matrix- logistic Regression (Count vectoriser and solver='liblinear': [[43  0 16  0  0  0  2  0  0  0  0  0  0  3]\n",
      " [ 1 10  5  0  0  0  0  0  0  0  0  0  0  0]\n",
      " [17  0 73  0  0  2  0  0  0  0  0  0  0  2]\n",
      " [ 2  0  2  2  0  1  0  0  0  0  0  0  0  0]\n",
      " [ 1  0  3  0  0  1  0  0  0  0  0  0  0  0]\n",
      " [ 6  0 13  0  0  6  0  0  0  0  0  0  0  1]\n",
      " [ 1  0  7  0  0  0 11  0  0  0  0  0  0  1]\n",
      " [ 1  0  3  0  0  0  0  1  0  0  0  0  0  0]\n",
      " [ 1  0  1  0  0  2  0  0  0  0  0  0  0  1]\n",
      " [ 1  0  0  0  0  1  0  0  0  1  0  0  0  0]\n",
      " [ 1  0  2  0  0  0  0  0  0  0  9  0  0  0]\n",
      " [ 1  0  2  0  0  0  0  0  0  0  1  0  0  0]\n",
      " [ 0  0  1  0  0  0  0  0  0  0  0  0  0  0]\n",
      " [ 6  0 11  0  0  0  0  0  0  0  0  0  0 11]]\n",
      "Confusion matrix- logistic Regression (Count vectoriser and solver='lbfgs': [[42  0 15  1  0  0  3  0  0  0  0  0  0  3]\n",
      " [ 1 11  4  0  0  0  0  0  0  0  0  0  0  0]\n",
      " [17  0 73  0  0  2  0  0  0  0  0  0  0  2]\n",
      " [ 2  0  2  2  0  1  0  0  0  0  0  0  0  0]\n",
      " [ 1  0  3  0  0  1  0  0  0  0  0  0  0  0]\n",
      " [ 6  1 12  0  0  6  0  0  0  0  0  0  0  1]\n",
      " [ 1  0  7  0  0  0 11  0  0  0  0  0  0  1]\n",
      " [ 1  0  3  0  0  0  0  1  0  0  0  0  0  0]\n",
      " [ 1  0  1  0  0  2  0  0  0  0  0  0  0  1]\n",
      " [ 1  0  0  0  0  1  0  0  0  1  0  0  0  0]\n",
      " [ 2  0  2  0  0  0  0  0  0  0  8  0  0  0]\n",
      " [ 1  0  3  0  0  0  0  0  0  0  0  0  0  0]\n",
      " [ 0  0  1  0  0  0  0  0  0  0  0  0  0  0]\n",
      " [ 6  0 10  0  0  0  0  0  0  0  0  0  0 12]]\n",
      "Confusion matrix- SVM ( Count vectoriser): [[40  0 14  0  0  1  3  0  0  0  1  1  0  0  0  4]\n",
      " [ 1 13  1  0  0  1  0  0  0  0  0  0  0  0  0  0]\n",
      " [12  1 64  1  0  7  2  0  0  0  1  1  0  1  0  4]\n",
      " [ 2  0  1  3  0  1  0  0  0  0  0  0  0  0  0  0]\n",
      " [ 0  0  1  0  3  0  0  0  1  0  0  0  0  0  0  0]\n",
      " [ 5  2 12  0  0  5  1  0  0  0  0  0  0  0  0  1]\n",
      " [ 4  0  4  0  0  0 12  0  0  0  0  0  0  0  0  0]\n",
      " [ 1  0  3  0  0  0  0  1  0  0  0  0  0  0  0  0]\n",
      " [ 0  0  1  0  0  3  0  0  1  0  0  0  0  0  0  0]\n",
      " [ 1  0  0  0  0  1  0  0  0  1  0  0  0  0  0  0]\n",
      " [ 1  0  1  0  0  0  0  0  0  0  9  0  0  0  0  1]\n",
      " [ 0  0  0  0  0  0  0  0  0  0  0  0  0  0  0  0]\n",
      " [ 1  0  2  0  0  0  0  0  0  0  0  0  1  0  0  0]\n",
      " [ 0  0  0  0  0  0  0  0  0  0  0  0  0  0  0  0]\n",
      " [ 0  0  1  0  0  0  0  0  0  0  0  0  0  0  0  0]\n",
      " [ 4  0 10  1  0  0  1  0  0  0  0  0  0  0  0 12]]\n",
      "Confusion matrix- knn ( Count vectoriser): [[16  0 42  0  0  0  0  0  0  0  0  0  0  6]\n",
      " [ 4  0 12  0  0  0  0  0  0  0  0  0  0  0]\n",
      " [21  0 63  0  0  0  0  0  0  0  0  0  0 10]\n",
      " [ 3  0  4  0  0  0  0  0  0  0  0  0  0  0]\n",
      " [ 3  0  2  0  0  0  0  0  0  0  0  0  0  0]\n",
      " [ 6  0 15  0  0  0  0  0  0  0  0  0  0  5]\n",
      " [ 4  0 16  0  0  0  0  0  0  0  0  0  0  0]\n",
      " [ 1  0  4  0  0  0  0  0  0  0  0  0  0  0]\n",
      " [ 1  0  4  0  0  0  0  0  0  0  0  0  0  0]\n",
      " [ 0  1  1  0  0  0  0  0  0  0  0  0  0  1]\n",
      " [ 4  0  8  0  0  0  0  0  0  0  0  0  0  0]\n",
      " [ 0  0  4  0  0  0  0  0  0  0  0  0  0  0]\n",
      " [ 0  0  1  0  0  0  0  0  0  0  0  0  0  0]\n",
      " [ 0  0 28  0  0  0  0  0  0  0  0  0  0  0]]\n"
     ]
    }
   ],
   "source": [
    "print(\"Confusion matrix- logistic Regression (Count vectoriser and solver='liblinear':\", confusion_matrix(y_test,y_pred_lm_cv))\n",
    "print(\"Confusion matrix- logistic Regression (Count vectoriser and solver='lbfgs':\", confusion_matrix(y_test,y_pred_lm1_cv))\n",
    "print(\"Confusion matrix- SVM ( Count vectoriser):\", confusion_matrix(y_test,y_pred_svc_cv))\n",
    "print(\"Confusion matrix- knn ( Count vectoriser):\", confusion_matrix(y_test,y_pred_knn_cv))"
   ]
  },
  {
   "cell_type": "code",
   "execution_count": 72,
   "id": "4cfe2fce",
   "metadata": {},
   "outputs": [
    {
     "name": "stdout",
     "output_type": "stream",
     "text": [
      "classification_report- logistic Regression (Count vectoriser and solver='liblinear':               precision    recall  f1-score   support\n",
      "\n",
      "           1       0.52      0.67      0.59        64\n",
      "           2       1.00      0.62      0.77        16\n",
      "           3       0.53      0.78      0.63        94\n",
      "           4       1.00      0.29      0.44         7\n",
      "           5       0.00      0.00      0.00         5\n",
      "           6       0.46      0.23      0.31        26\n",
      "           7       0.85      0.55      0.67        20\n",
      "           8       1.00      0.20      0.33         5\n",
      "           9       0.00      0.00      0.00         5\n",
      "          10       1.00      0.33      0.50         3\n",
      "          11       0.90      0.75      0.82        12\n",
      "          13       0.00      0.00      0.00         4\n",
      "          15       0.00      0.00      0.00         1\n",
      "          16       0.58      0.39      0.47        28\n",
      "\n",
      "    accuracy                           0.58       290\n",
      "   macro avg       0.56      0.34      0.39       290\n",
      "weighted avg       0.59      0.58      0.55       290\n",
      "\n",
      "classification_report- logistic Regression (Count vectoriser and solver='lbfgs':               precision    recall  f1-score   support\n",
      "\n",
      "           1       0.51      0.66      0.58        64\n",
      "           2       0.92      0.69      0.79        16\n",
      "           3       0.54      0.78      0.63        94\n",
      "           4       0.67      0.29      0.40         7\n",
      "           5       0.00      0.00      0.00         5\n",
      "           6       0.46      0.23      0.31        26\n",
      "           7       0.79      0.55      0.65        20\n",
      "           8       1.00      0.20      0.33         5\n",
      "           9       0.00      0.00      0.00         5\n",
      "          10       1.00      0.33      0.50         3\n",
      "          11       1.00      0.67      0.80        12\n",
      "          13       0.00      0.00      0.00         4\n",
      "          15       0.00      0.00      0.00         1\n",
      "          16       0.60      0.43      0.50        28\n",
      "\n",
      "    accuracy                           0.58       290\n",
      "   macro avg       0.53      0.34      0.39       290\n",
      "weighted avg       0.58      0.58      0.55       290\n",
      "\n",
      "classification_report- SVM ( Count vectoriser):               precision    recall  f1-score   support\n",
      "\n",
      "           1       0.56      0.62      0.59        64\n",
      "           2       0.81      0.81      0.81        16\n",
      "           3       0.56      0.68      0.61        94\n",
      "           4       0.60      0.43      0.50         7\n",
      "           5       1.00      0.60      0.75         5\n",
      "           6       0.26      0.19      0.22        26\n",
      "           7       0.63      0.60      0.62        20\n",
      "           8       1.00      0.20      0.33         5\n",
      "           9       0.50      0.20      0.29         5\n",
      "          10       1.00      0.33      0.50         3\n",
      "          11       0.82      0.75      0.78        12\n",
      "          12       0.00      0.00      0.00         0\n",
      "          13       1.00      0.25      0.40         4\n",
      "          14       0.00      0.00      0.00         0\n",
      "          15       0.00      0.00      0.00         1\n",
      "          16       0.55      0.43      0.48        28\n",
      "\n",
      "    accuracy                           0.57       290\n",
      "   macro avg       0.58      0.38      0.43       290\n",
      "weighted avg       0.58      0.57      0.56       290\n",
      "\n",
      "classification_report- knn ( Count vectoriser):               precision    recall  f1-score   support\n",
      "\n",
      "           1       0.25      0.25      0.25        64\n",
      "           2       0.00      0.00      0.00        16\n",
      "           3       0.31      0.67      0.42        94\n",
      "           4       0.00      0.00      0.00         7\n",
      "           5       0.00      0.00      0.00         5\n",
      "           6       0.00      0.00      0.00        26\n",
      "           7       0.00      0.00      0.00        20\n",
      "           8       0.00      0.00      0.00         5\n",
      "           9       0.00      0.00      0.00         5\n",
      "          10       0.00      0.00      0.00         3\n",
      "          11       0.00      0.00      0.00        12\n",
      "          13       0.00      0.00      0.00         4\n",
      "          15       0.00      0.00      0.00         1\n",
      "          16       0.00      0.00      0.00        28\n",
      "\n",
      "    accuracy                           0.27       290\n",
      "   macro avg       0.04      0.07      0.05       290\n",
      "weighted avg       0.16      0.27      0.19       290\n",
      "\n"
     ]
    },
    {
     "name": "stderr",
     "output_type": "stream",
     "text": [
      "/Users/ishantkundra/opt/anaconda3/lib/python3.9/site-packages/sklearn/metrics/_classification.py:1318: UndefinedMetricWarning: Precision and F-score are ill-defined and being set to 0.0 in labels with no predicted samples. Use `zero_division` parameter to control this behavior.\n",
      "  _warn_prf(average, modifier, msg_start, len(result))\n",
      "/Users/ishantkundra/opt/anaconda3/lib/python3.9/site-packages/sklearn/metrics/_classification.py:1318: UndefinedMetricWarning: Precision and F-score are ill-defined and being set to 0.0 in labels with no predicted samples. Use `zero_division` parameter to control this behavior.\n",
      "  _warn_prf(average, modifier, msg_start, len(result))\n",
      "/Users/ishantkundra/opt/anaconda3/lib/python3.9/site-packages/sklearn/metrics/_classification.py:1318: UndefinedMetricWarning: Precision and F-score are ill-defined and being set to 0.0 in labels with no predicted samples. Use `zero_division` parameter to control this behavior.\n",
      "  _warn_prf(average, modifier, msg_start, len(result))\n",
      "/Users/ishantkundra/opt/anaconda3/lib/python3.9/site-packages/sklearn/metrics/_classification.py:1318: UndefinedMetricWarning: Precision and F-score are ill-defined and being set to 0.0 in labels with no predicted samples. Use `zero_division` parameter to control this behavior.\n",
      "  _warn_prf(average, modifier, msg_start, len(result))\n",
      "/Users/ishantkundra/opt/anaconda3/lib/python3.9/site-packages/sklearn/metrics/_classification.py:1318: UndefinedMetricWarning: Precision and F-score are ill-defined and being set to 0.0 in labels with no predicted samples. Use `zero_division` parameter to control this behavior.\n",
      "  _warn_prf(average, modifier, msg_start, len(result))\n",
      "/Users/ishantkundra/opt/anaconda3/lib/python3.9/site-packages/sklearn/metrics/_classification.py:1318: UndefinedMetricWarning: Precision and F-score are ill-defined and being set to 0.0 in labels with no predicted samples. Use `zero_division` parameter to control this behavior.\n",
      "  _warn_prf(average, modifier, msg_start, len(result))\n",
      "/Users/ishantkundra/opt/anaconda3/lib/python3.9/site-packages/sklearn/metrics/_classification.py:1318: UndefinedMetricWarning: Precision and F-score are ill-defined and being set to 0.0 in labels with no predicted samples. Use `zero_division` parameter to control this behavior.\n",
      "  _warn_prf(average, modifier, msg_start, len(result))\n",
      "/Users/ishantkundra/opt/anaconda3/lib/python3.9/site-packages/sklearn/metrics/_classification.py:1318: UndefinedMetricWarning: Recall and F-score are ill-defined and being set to 0.0 in labels with no true samples. Use `zero_division` parameter to control this behavior.\n",
      "  _warn_prf(average, modifier, msg_start, len(result))\n",
      "/Users/ishantkundra/opt/anaconda3/lib/python3.9/site-packages/sklearn/metrics/_classification.py:1318: UndefinedMetricWarning: Precision and F-score are ill-defined and being set to 0.0 in labels with no predicted samples. Use `zero_division` parameter to control this behavior.\n",
      "  _warn_prf(average, modifier, msg_start, len(result))\n",
      "/Users/ishantkundra/opt/anaconda3/lib/python3.9/site-packages/sklearn/metrics/_classification.py:1318: UndefinedMetricWarning: Recall and F-score are ill-defined and being set to 0.0 in labels with no true samples. Use `zero_division` parameter to control this behavior.\n",
      "  _warn_prf(average, modifier, msg_start, len(result))\n",
      "/Users/ishantkundra/opt/anaconda3/lib/python3.9/site-packages/sklearn/metrics/_classification.py:1318: UndefinedMetricWarning: Precision and F-score are ill-defined and being set to 0.0 in labels with no predicted samples. Use `zero_division` parameter to control this behavior.\n",
      "  _warn_prf(average, modifier, msg_start, len(result))\n",
      "/Users/ishantkundra/opt/anaconda3/lib/python3.9/site-packages/sklearn/metrics/_classification.py:1318: UndefinedMetricWarning: Recall and F-score are ill-defined and being set to 0.0 in labels with no true samples. Use `zero_division` parameter to control this behavior.\n",
      "  _warn_prf(average, modifier, msg_start, len(result))\n",
      "/Users/ishantkundra/opt/anaconda3/lib/python3.9/site-packages/sklearn/metrics/_classification.py:1318: UndefinedMetricWarning: Precision and F-score are ill-defined and being set to 0.0 in labels with no predicted samples. Use `zero_division` parameter to control this behavior.\n",
      "  _warn_prf(average, modifier, msg_start, len(result))\n",
      "/Users/ishantkundra/opt/anaconda3/lib/python3.9/site-packages/sklearn/metrics/_classification.py:1318: UndefinedMetricWarning: Precision and F-score are ill-defined and being set to 0.0 in labels with no predicted samples. Use `zero_division` parameter to control this behavior.\n",
      "  _warn_prf(average, modifier, msg_start, len(result))\n",
      "/Users/ishantkundra/opt/anaconda3/lib/python3.9/site-packages/sklearn/metrics/_classification.py:1318: UndefinedMetricWarning: Precision and F-score are ill-defined and being set to 0.0 in labels with no predicted samples. Use `zero_division` parameter to control this behavior.\n",
      "  _warn_prf(average, modifier, msg_start, len(result))\n"
     ]
    }
   ],
   "source": [
    "print(\"classification_report- logistic Regression (Count vectoriser and solver='liblinear':\", classification_report(y_test,y_pred_lm_cv))\n",
    "print(\"classification_report- logistic Regression (Count vectoriser and solver='lbfgs':\", classification_report(y_test,y_pred_lm1_cv))\n",
    "print(\"classification_report- SVM ( Count vectoriser):\", classification_report(y_test,y_pred_svc_cv))\n",
    "print(\"classification_report- knn ( Count vectoriser):\", classification_report(y_test,y_pred_knn_cv))"
   ]
  },
  {
   "cell_type": "markdown",
   "id": "26617958",
   "metadata": {},
   "source": [
    "## 4. Improve Performance of model. [14 Marks]"
   ]
  },
  {
   "cell_type": "markdown",
   "id": "664c798a",
   "metadata": {},
   "source": [
    "### 4.A. Experiment with other vectorisers. [4 Marks]"
   ]
  },
  {
   "cell_type": "markdown",
   "id": "5f9f01f7",
   "metadata": {},
   "source": [
    "### 4.B. Build classifier Models using other algorithms than base model. [4 Marks]"
   ]
  },
  {
   "cell_type": "markdown",
   "id": "5b37709f",
   "metadata": {},
   "source": [
    "### 4.C. Tune Parameters/Hyperparameters of the model/s. [4 Marks]"
   ]
  },
  {
   "cell_type": "markdown",
   "id": "6233308e",
   "metadata": {},
   "source": [
    "### 4.D. Clearly print Performance Metrics. [2 Marks]"
   ]
  },
  {
   "cell_type": "code",
   "execution_count": 73,
   "id": "9f4d84da",
   "metadata": {},
   "outputs": [
    {
     "data": {
      "text/html": [
       "<div>\n",
       "<style scoped>\n",
       "    .dataframe tbody tr th:only-of-type {\n",
       "        vertical-align: middle;\n",
       "    }\n",
       "\n",
       "    .dataframe tbody tr th {\n",
       "        vertical-align: top;\n",
       "    }\n",
       "\n",
       "    .dataframe thead th {\n",
       "        text-align: right;\n",
       "    }\n",
       "</style>\n",
       "<table border=\"1\" class=\"dataframe\">\n",
       "  <thead>\n",
       "    <tr style=\"text-align: right;\">\n",
       "      <th></th>\n",
       "      <th>id</th>\n",
       "      <th>gender</th>\n",
       "      <th>age</th>\n",
       "      <th>topic</th>\n",
       "      <th>sign</th>\n",
       "      <th>date</th>\n",
       "      <th>text</th>\n",
       "      <th>label_ID</th>\n",
       "    </tr>\n",
       "  </thead>\n",
       "  <tbody>\n",
       "    <tr>\n",
       "      <th>1490</th>\n",
       "      <td>589736</td>\n",
       "      <td>male</td>\n",
       "      <td>35</td>\n",
       "      <td>Technology</td>\n",
       "      <td>Aries</td>\n",
       "      <td>05,August,2004</td>\n",
       "      <td>argument absolutes seems subjective universe o...</td>\n",
       "      <td>16</td>\n",
       "    </tr>\n",
       "    <tr>\n",
       "      <th>1491</th>\n",
       "      <td>589736</td>\n",
       "      <td>male</td>\n",
       "      <td>35</td>\n",
       "      <td>Technology</td>\n",
       "      <td>Aries</td>\n",
       "      <td>05,August,2004</td>\n",
       "      <td>well folks wont get commentary next days im go...</td>\n",
       "      <td>16</td>\n",
       "    </tr>\n",
       "    <tr>\n",
       "      <th>1492</th>\n",
       "      <td>589736</td>\n",
       "      <td>male</td>\n",
       "      <td>35</td>\n",
       "      <td>Technology</td>\n",
       "      <td>Aries</td>\n",
       "      <td>05,August,2004</td>\n",
       "      <td>thanks mir first could see links forgot scoll ...</td>\n",
       "      <td>16</td>\n",
       "    </tr>\n",
       "    <tr>\n",
       "      <th>1493</th>\n",
       "      <td>589736</td>\n",
       "      <td>male</td>\n",
       "      <td>35</td>\n",
       "      <td>Technology</td>\n",
       "      <td>Aries</td>\n",
       "      <td>05,August,2004</td>\n",
       "      <td>love smile enter secret city ben already told ...</td>\n",
       "      <td>16</td>\n",
       "    </tr>\n",
       "    <tr>\n",
       "      <th>1494</th>\n",
       "      <td>589736</td>\n",
       "      <td>male</td>\n",
       "      <td>35</td>\n",
       "      <td>Technology</td>\n",
       "      <td>Aries</td>\n",
       "      <td>05,August,2004</td>\n",
       "      <td>sercet city indeed secret find enter sercet ci...</td>\n",
       "      <td>16</td>\n",
       "    </tr>\n",
       "    <tr>\n",
       "      <th>1495</th>\n",
       "      <td>589736</td>\n",
       "      <td>male</td>\n",
       "      <td>35</td>\n",
       "      <td>Technology</td>\n",
       "      <td>Aries</td>\n",
       "      <td>05,August,2004</td>\n",
       "      <td>umtestingtesting thing hello world ben post</td>\n",
       "      <td>16</td>\n",
       "    </tr>\n",
       "    <tr>\n",
       "      <th>1496</th>\n",
       "      <td>589736</td>\n",
       "      <td>male</td>\n",
       "      <td>35</td>\n",
       "      <td>Technology</td>\n",
       "      <td>Aries</td>\n",
       "      <td>05,August,2004</td>\n",
       "      <td>hmmm okay beautiful referring comments city ni...</td>\n",
       "      <td>16</td>\n",
       "    </tr>\n",
       "    <tr>\n",
       "      <th>1497</th>\n",
       "      <td>589736</td>\n",
       "      <td>male</td>\n",
       "      <td>35</td>\n",
       "      <td>Technology</td>\n",
       "      <td>Aries</td>\n",
       "      <td>05,August,2004</td>\n",
       "      <td>group make sure refer respond information sour...</td>\n",
       "      <td>16</td>\n",
       "    </tr>\n",
       "    <tr>\n",
       "      <th>1498</th>\n",
       "      <td>589736</td>\n",
       "      <td>male</td>\n",
       "      <td>35</td>\n",
       "      <td>Technology</td>\n",
       "      <td>Aries</td>\n",
       "      <td>05,August,2004</td>\n",
       "      <td>watch pendulum swing baby favorite quotes new ...</td>\n",
       "      <td>16</td>\n",
       "    </tr>\n",
       "    <tr>\n",
       "      <th>1499</th>\n",
       "      <td>589736</td>\n",
       "      <td>male</td>\n",
       "      <td>35</td>\n",
       "      <td>Technology</td>\n",
       "      <td>Aries</td>\n",
       "      <td>05,August,2004</td>\n",
       "      <td>one final note marriage solution issue yes thi...</td>\n",
       "      <td>16</td>\n",
       "    </tr>\n",
       "  </tbody>\n",
       "</table>\n",
       "</div>"
      ],
      "text/plain": [
       "          id gender  age       topic   sign            date  \\\n",
       "1490  589736   male   35  Technology  Aries  05,August,2004   \n",
       "1491  589736   male   35  Technology  Aries  05,August,2004   \n",
       "1492  589736   male   35  Technology  Aries  05,August,2004   \n",
       "1493  589736   male   35  Technology  Aries  05,August,2004   \n",
       "1494  589736   male   35  Technology  Aries  05,August,2004   \n",
       "1495  589736   male   35  Technology  Aries  05,August,2004   \n",
       "1496  589736   male   35  Technology  Aries  05,August,2004   \n",
       "1497  589736   male   35  Technology  Aries  05,August,2004   \n",
       "1498  589736   male   35  Technology  Aries  05,August,2004   \n",
       "1499  589736   male   35  Technology  Aries  05,August,2004   \n",
       "\n",
       "                                                   text  label_ID  \n",
       "1490  argument absolutes seems subjective universe o...        16  \n",
       "1491  well folks wont get commentary next days im go...        16  \n",
       "1492  thanks mir first could see links forgot scoll ...        16  \n",
       "1493  love smile enter secret city ben already told ...        16  \n",
       "1494  sercet city indeed secret find enter sercet ci...        16  \n",
       "1495        umtestingtesting thing hello world ben post        16  \n",
       "1496  hmmm okay beautiful referring comments city ni...        16  \n",
       "1497  group make sure refer respond information sour...        16  \n",
       "1498  watch pendulum swing baby favorite quotes new ...        16  \n",
       "1499  one final note marriage solution issue yes thi...        16  "
      ]
     },
     "execution_count": 73,
     "metadata": {},
     "output_type": "execute_result"
    }
   ],
   "source": [
    "data_copy[\"label_ID\"]=data_copy[\"topic\"]\n",
    "list_label=list(data[\"topic\"].unique())\n",
    "label_dict={}\n",
    "i=1\n",
    "for key in list_label:\n",
    "  label_dict[key]=i\n",
    "  i+=1\n",
    "for i in label_dict.keys():\n",
    "  data_copy[\"label_ID\"] = data_copy[\"label_ID\"].replace(i,label_dict[i])\n",
    "data_copy.tail(10)"
   ]
  },
  {
   "cell_type": "code",
   "execution_count": 74,
   "id": "915be201",
   "metadata": {},
   "outputs": [],
   "source": [
    "x=data_copy[\"text\"]\n",
    "y=data_copy[\"label_ID\"]"
   ]
  },
  {
   "cell_type": "code",
   "execution_count": 75,
   "id": "40af9c3a",
   "metadata": {},
   "outputs": [
    {
     "data": {
      "text/plain": [
       "(1450, 183427)"
      ]
     },
     "execution_count": 75,
     "metadata": {},
     "output_type": "execute_result"
    }
   ],
   "source": [
    "### TF-TDF\n",
    "from sklearn.feature_extraction.text import TfidfVectorizer\n",
    "tv=TfidfVectorizer(ngram_range=(1, 2))\n",
    "X=tv.fit_transform(x)\n",
    "X.shape"
   ]
  },
  {
   "cell_type": "code",
   "execution_count": 76,
   "id": "db06938b",
   "metadata": {},
   "outputs": [
    {
     "data": {
      "text/plain": [
       "<1450x183427 sparse matrix of type '<class 'numpy.float64'>'\n",
       "\twith 331107 stored elements in Compressed Sparse Row format>"
      ]
     },
     "execution_count": 76,
     "metadata": {},
     "output_type": "execute_result"
    }
   ],
   "source": [
    "X"
   ]
  },
  {
   "cell_type": "code",
   "execution_count": 77,
   "id": "5526c42d",
   "metadata": {},
   "outputs": [
    {
     "data": {
      "text/plain": [
       "array([[0., 0., 0., ..., 0., 0., 0.],\n",
       "       [0., 0., 0., ..., 0., 0., 0.],\n",
       "       [0., 0., 0., ..., 0., 0., 0.],\n",
       "       ...,\n",
       "       [0., 0., 0., ..., 0., 0., 0.],\n",
       "       [0., 0., 0., ..., 0., 0., 0.],\n",
       "       [0., 0., 0., ..., 0., 0., 0.]])"
      ]
     },
     "execution_count": 77,
     "metadata": {},
     "output_type": "execute_result"
    }
   ],
   "source": [
    "x=X.toarray()\n",
    "x"
   ]
  },
  {
   "cell_type": "code",
   "execution_count": 78,
   "id": "e57a449b",
   "metadata": {},
   "outputs": [
    {
     "data": {
      "text/plain": [
       "15.82218134014004"
      ]
     },
     "execution_count": 78,
     "metadata": {},
     "output_type": "execute_result"
    }
   ],
   "source": [
    "sum(x[10])"
   ]
  },
  {
   "cell_type": "code",
   "execution_count": 79,
   "id": "af48dcc8",
   "metadata": {},
   "outputs": [],
   "source": [
    "y=np.array(data_copy[\"label_ID\"])"
   ]
  },
  {
   "cell_type": "code",
   "execution_count": 80,
   "id": "9d23cabd",
   "metadata": {},
   "outputs": [],
   "source": [
    "from sklearn.model_selection import train_test_split\n",
    "X_train, X_test, y_train, y_test = train_test_split(x,y, random_state=20, test_size = 0.2)\n"
   ]
  },
  {
   "cell_type": "code",
   "execution_count": 81,
   "id": "6281a733",
   "metadata": {},
   "outputs": [
    {
     "data": {
      "text/plain": [
       "LogisticRegression(multi_class='ovr', solver='liblinear')"
      ]
     },
     "execution_count": 81,
     "metadata": {},
     "output_type": "execute_result"
    }
   ],
   "source": [
    "from sklearn import linear_model\n",
    "lm_tfidf = linear_model.LogisticRegression(multi_class='ovr', solver='liblinear')\n",
    "lm_tfidf.fit(X_train, y_train)"
   ]
  },
  {
   "cell_type": "code",
   "execution_count": 82,
   "id": "a7d60184",
   "metadata": {},
   "outputs": [
    {
     "data": {
      "text/plain": [
       "LogisticRegression(multi_class='ovr')"
      ]
     },
     "execution_count": 82,
     "metadata": {},
     "output_type": "execute_result"
    }
   ],
   "source": [
    "lm_1_tfidf = linear_model.LogisticRegression(multi_class='ovr', solver='lbfgs')\n",
    "lm_1_tfidf.fit(X_train,y_train)\n"
   ]
  },
  {
   "cell_type": "code",
   "execution_count": 83,
   "id": "70dac7a8",
   "metadata": {},
   "outputs": [
    {
     "data": {
      "text/plain": [
       "LinearSVC(dual=False, penalty='l1')"
      ]
     },
     "execution_count": 83,
     "metadata": {},
     "output_type": "execute_result"
    }
   ],
   "source": [
    "from sklearn.svm import LinearSVC\n",
    "l_svc_tfidf = LinearSVC(C=1.0, penalty='l1', dual=False, loss='squared_hinge')\n",
    "l_svc_tfidf.fit(X_train,y_train)"
   ]
  },
  {
   "cell_type": "code",
   "execution_count": 84,
   "id": "75b92198",
   "metadata": {},
   "outputs": [
    {
     "data": {
      "text/plain": [
       "KNeighborsClassifier(n_neighbors=3)"
      ]
     },
     "execution_count": 84,
     "metadata": {},
     "output_type": "execute_result"
    }
   ],
   "source": [
    "from sklearn.neighbors import KNeighborsClassifier\n",
    "\n",
    "mdl_tfidf = KNeighborsClassifier(n_neighbors=3)\n",
    "mdl_tfidf.fit(X_train,y_train)"
   ]
  },
  {
   "cell_type": "code",
   "execution_count": 85,
   "id": "3de4b143",
   "metadata": {},
   "outputs": [
    {
     "data": {
      "text/plain": [
       "KNeighborsClassifier()"
      ]
     },
     "execution_count": 85,
     "metadata": {},
     "output_type": "execute_result"
    }
   ],
   "source": [
    "from sklearn.neighbors import KNeighborsClassifier\n",
    "\n",
    "mdl_tfidf1 = KNeighborsClassifier(n_neighbors=5)\n",
    "mdl_tfidf1.fit(X_train,y_train)"
   ]
  },
  {
   "cell_type": "code",
   "execution_count": 86,
   "id": "806c4a1b",
   "metadata": {},
   "outputs": [],
   "source": [
    "er=[]\n",
    "\n",
    "for i in range(1,40,2):\n",
    "    knn=KNeighborsClassifier(n_neighbors=i)\n",
    "    knn.fit(X_train,y_train)\n",
    "    y_i_pred=knn.predict(X_test)\n",
    "    er.append(np.mean(y_i_pred!=y_test))"
   ]
  },
  {
   "cell_type": "code",
   "execution_count": 87,
   "id": "5aa1d1e5",
   "metadata": {},
   "outputs": [
    {
     "data": {
      "text/plain": [
       "Text(0, 0.5, 'error rate')"
      ]
     },
     "execution_count": 87,
     "metadata": {},
     "output_type": "execute_result"
    },
    {
     "data": {
      "image/png": "[encoded data removed]",
      "text/plain": [
       "<Figure size 432x288 with 1 Axes>"
      ]
     },
     "metadata": {
      "needs_background": "light"
     },
     "output_type": "display_data"
    }
   ],
   "source": [
    "plt.plot(range(1,40,2),er)\n",
    "plt.title('k value vs error')\n",
    "plt.xlabel('k')\n",
    "plt.ylabel('error rate')"
   ]
  },
  {
   "cell_type": "code",
   "execution_count": 88,
   "id": "e7417b81",
   "metadata": {},
   "outputs": [
    {
     "name": "stdout",
     "output_type": "stream",
     "text": [
      "Accuracy Score - logistic Regression (TFIDF vectoriser and solver='liblinear': 0.3931034482758621\n",
      "Accuracy Score - logistic Regression (TFIDF vectoriser and solver='lbfgs': 0.3931034482758621\n",
      "Accuracy Score - SVM ( TFIDF vectoriser): 0.5793103448275863\n",
      "Accuracy Score - knn ( TFIDF vectoriser and NN=3): 0.6206896551724138\n",
      "Accuracy Score - knn ( TFIDF vectoriser and NN=5): 0.6586206896551724\n"
     ]
    }
   ],
   "source": [
    "y_pred_lm_tfidf=lm_tfidf.predict(X_test)\n",
    "print(\"Accuracy Score - logistic Regression (TFIDF vectoriser and solver='liblinear':\", accuracy_score(y_test,y_pred_lm_tfidf))\n",
    "y_pred_lm1_tfidf=lm_1_tfidf.predict(X_test)\n",
    "print(\"Accuracy Score - logistic Regression (TFIDF vectoriser and solver='lbfgs':\",accuracy_score(y_test,y_pred_lm1_tfidf))\n",
    "y_pred_svc_tfidf=l_svc_tfidf.predict(X_test)\n",
    "print(\"Accuracy Score - SVM ( TFIDF vectoriser):\",accuracy_score(y_test,y_pred_svc_tfidf))\n",
    "y_pred_knn_tfidf=mdl_tfidf.predict(X_test)\n",
    "print(\"Accuracy Score - knn ( TFIDF vectoriser and NN=3):\",accuracy_score(y_test,y_pred_knn_tfidf))\n",
    "y_pred_knn_tfidf1=mdl_tfidf1.predict(X_test)\n",
    "print(\"Accuracy Score - knn ( TFIDF vectoriser and NN=5):\",accuracy_score(y_test,y_pred_knn_tfidf1))"
   ]
  },
  {
   "cell_type": "code",
   "execution_count": 89,
   "id": "6c10e7cf",
   "metadata": {},
   "outputs": [
    {
     "name": "stdout",
     "output_type": "stream",
     "text": [
      "Confusion matrix- logistic Regression (TFIDF vectoriser and solver='liblinear':\n",
      " [[39  0 40  0  0  0  0  0  0  0  0  0  0  0]\n",
      " [ 0  0 14  0  0  0  0  0  0  0  0  0  0  0]\n",
      " [ 6  0 75  0  0  0  0  0  0  0  0  0  0  0]\n",
      " [ 1  0  7  0  0  0  0  0  0  0  0  0  0  0]\n",
      " [ 2  0 15  0  0  0  0  0  0  0  0  0  0  0]\n",
      " [ 5  0 21  0  0  0  0  0  0  0  0  0  0  0]\n",
      " [ 1  0  6  0  0  0  0  0  0  0  0  0  0  0]\n",
      " [ 0  0  3  0  0  0  0  0  0  0  0  0  0  0]\n",
      " [ 0  0  4  0  0  0  0  0  0  0  0  0  0  0]\n",
      " [ 1  0 19  0  0  0  0  0  0  0  0  0  0  0]\n",
      " [ 0  0  1  0  0  0  0  0  0  0  0  0  0  0]\n",
      " [ 0  0  3  0  0  0  0  0  0  0  0  0  0  0]\n",
      " [ 0  0  1  0  0  0  0  0  0  0  0  0  0  0]\n",
      " [ 1  0 25  0  0  0  0  0  0  0  0  0  0  0]]\n",
      "Confusion matrix- logistic Regression (TFIDF vectoriser and solver='lbfgs':\n",
      " [[39  0 40  0  0  0  0  0  0  0  0  0  0  0]\n",
      " [ 0  0 14  0  0  0  0  0  0  0  0  0  0  0]\n",
      " [ 6  0 75  0  0  0  0  0  0  0  0  0  0  0]\n",
      " [ 1  0  7  0  0  0  0  0  0  0  0  0  0  0]\n",
      " [ 2  0 15  0  0  0  0  0  0  0  0  0  0  0]\n",
      " [ 5  0 21  0  0  0  0  0  0  0  0  0  0  0]\n",
      " [ 1  0  6  0  0  0  0  0  0  0  0  0  0  0]\n",
      " [ 0  0  3  0  0  0  0  0  0  0  0  0  0  0]\n",
      " [ 0  0  4  0  0  0  0  0  0  0  0  0  0  0]\n",
      " [ 1  0 19  0  0  0  0  0  0  0  0  0  0  0]\n",
      " [ 0  0  1  0  0  0  0  0  0  0  0  0  0  0]\n",
      " [ 0  0  3  0  0  0  0  0  0  0  0  0  0  0]\n",
      " [ 0  0  1  0  0  0  0  0  0  0  0  0  0  0]\n",
      " [ 1  0 25  0  0  0  0  0  0  0  0  0  0  0]]\n",
      "Confusion matrix- SVM ( TFIDF vectoriser):\n",
      " [[50  0 25  0  1  2  0  0  0  1  0  0  0  0]\n",
      " [ 0 14  0  0  0  0  0  0  0  0  0  0  0  0]\n",
      " [16  0 62  0  0  3  0  0  0  0  0  0  0  0]\n",
      " [ 3  0  3  2  0  0  0  0  0  0  0  0  0  0]\n",
      " [ 7  0  6  0  2  2  0  0  0  0  0  0  0  0]\n",
      " [ 4  0  7  0  0 15  0  0  0  0  0  0  0  0]\n",
      " [ 0  0  3  0  0  0  4  0  0  0  0  0  0  0]\n",
      " [ 3  0  0  0  0  0  0  0  0  0  0  0  0  0]\n",
      " [ 1  0  2  0  0  0  0  0  0  0  0  0  0  1]\n",
      " [ 4  0  3  0  0  1  0  0  0 12  0  0  0  0]\n",
      " [ 0  0  0  0  0  0  0  0  0  1  0  0  0  0]\n",
      " [ 0  0  3  0  0  0  0  0  0  0  0  0  0  0]\n",
      " [ 0  0  1  0  0  0  0  0  0  0  0  0  0  0]\n",
      " [ 4  0 14  0  0  1  0  0  0  0  0  0  0  7]]\n",
      "Confusion matrix- knn ( TFIDF vectoriser):\n",
      " [[65  0 10  0  1  2  1  0  0  0  0  0  0  0]\n",
      " [ 0 13  1  0  0  0  0  0  0  0  0  0  0  0]\n",
      " [29  3 43  0  4  0  0  0  0  0  0  0  0  2]\n",
      " [ 3  1  2  2  0  0  0  0  0  0  0  0  0  0]\n",
      " [ 5  0  5  0  7  0  0  0  0  0  0  0  0  0]\n",
      " [10  0  2  0  0 14  0  0  0  0  0  0  0  0]\n",
      " [ 1  0  0  0  0  0  5  0  0  0  0  0  0  1]\n",
      " [ 1  0  0  0  2  0  0  0  0  0  0  0  0  0]\n",
      " [ 0  0  0  0  0  0  0  0  4  0  0  0  0  0]\n",
      " [ 4  1  5  0  0  0  0  0  0 10  0  0  0  0]\n",
      " [ 0  1  0  0  0  0  0  0  0  0  0  0  0  0]\n",
      " [ 0  0  0  0  0  0  0  0  0  0  0  3  0  0]\n",
      " [ 1  0  0  0  0  0  0  0  0  0  0  0  0  0]\n",
      " [ 4  0  7  0  1  0  0  0  0  0  0  0  0 14]]\n"
     ]
    }
   ],
   "source": [
    "print(\"Confusion matrix- logistic Regression (TFIDF vectoriser and solver='liblinear':\\n\", confusion_matrix(y_test,y_pred_lm_tfidf))\n",
    "print(\"Confusion matrix- logistic Regression (TFIDF vectoriser and solver='lbfgs':\\n\", confusion_matrix(y_test,y_pred_lm1_tfidf))\n",
    "print(\"Confusion matrix- SVM ( TFIDF vectoriser):\\n\", confusion_matrix(y_test,y_pred_svc_tfidf))\n",
    "print(\"Confusion matrix- knn ( TFIDF vectoriser):\\n\", confusion_matrix(y_test,y_pred_knn_tfidf))"
   ]
  },
  {
   "cell_type": "code",
   "execution_count": 90,
   "id": "ddf755e6",
   "metadata": {},
   "outputs": [
    {
     "name": "stdout",
     "output_type": "stream",
     "text": [
      "classification_report- logistic Regression (TFIDF vectoriser and solver='liblinear':\n",
      "               precision    recall  f1-score   support\n",
      "\n",
      "           1       0.70      0.49      0.58        79\n",
      "           2       0.00      0.00      0.00        14\n",
      "           3       0.32      0.93      0.48        81\n",
      "           4       0.00      0.00      0.00         8\n",
      "           6       0.00      0.00      0.00        17\n",
      "           7       0.00      0.00      0.00        26\n",
      "           8       0.00      0.00      0.00         7\n",
      "           9       0.00      0.00      0.00         3\n",
      "          10       0.00      0.00      0.00         4\n",
      "          11       0.00      0.00      0.00        20\n",
      "          12       0.00      0.00      0.00         1\n",
      "          13       0.00      0.00      0.00         3\n",
      "          15       0.00      0.00      0.00         1\n",
      "          16       0.00      0.00      0.00        26\n",
      "\n",
      "    accuracy                           0.39       290\n",
      "   macro avg       0.07      0.10      0.08       290\n",
      "weighted avg       0.28      0.39      0.29       290\n",
      "\n",
      "classification_report- logistic Regression (TFIDF vectoriser and solver='lbfgs':\n",
      "               precision    recall  f1-score   support\n",
      "\n",
      "           1       0.70      0.49      0.58        79\n",
      "           2       0.00      0.00      0.00        14\n",
      "           3       0.32      0.93      0.48        81\n",
      "           4       0.00      0.00      0.00         8\n",
      "           6       0.00      0.00      0.00        17\n",
      "           7       0.00      0.00      0.00        26\n",
      "           8       0.00      0.00      0.00         7\n",
      "           9       0.00      0.00      0.00         3\n",
      "          10       0.00      0.00      0.00         4\n",
      "          11       0.00      0.00      0.00        20\n",
      "          12       0.00      0.00      0.00         1\n",
      "          13       0.00      0.00      0.00         3\n",
      "          15       0.00      0.00      0.00         1\n",
      "          16       0.00      0.00      0.00        26\n",
      "\n",
      "    accuracy                           0.39       290\n",
      "   macro avg       0.07      0.10      0.08       290\n",
      "weighted avg       0.28      0.39      0.29       290\n",
      "\n",
      "classification_report- SVM ( TFIDF vectoriser):\n",
      "               precision    recall  f1-score   support\n",
      "\n",
      "           1       0.54      0.63      0.58        79\n",
      "           2       1.00      1.00      1.00        14\n",
      "           3       0.48      0.77      0.59        81\n",
      "           4       1.00      0.25      0.40         8\n",
      "           6       0.67      0.12      0.20        17\n",
      "           7       0.62      0.58      0.60        26\n",
      "           8       1.00      0.57      0.73         7\n",
      "           9       0.00      0.00      0.00         3\n",
      "          10       0.00      0.00      0.00         4\n",
      "          11       0.86      0.60      0.71        20\n",
      "          12       0.00      0.00      0.00         1\n",
      "          13       0.00      0.00      0.00         3\n",
      "          15       0.00      0.00      0.00         1\n",
      "          16       0.88      0.27      0.41        26\n",
      "\n",
      "    accuracy                           0.58       290\n",
      "   macro avg       0.50      0.34      0.37       290\n",
      "weighted avg       0.61      0.58      0.55       290\n",
      "\n",
      "classification_report- knn ( TFIDF vectoriser):\n",
      "               precision    recall  f1-score   support\n",
      "\n",
      "           1       0.53      0.82      0.64        79\n",
      "           2       0.68      0.93      0.79        14\n",
      "           3       0.57      0.53      0.55        81\n",
      "           4       1.00      0.25      0.40         8\n",
      "           6       0.47      0.41      0.44        17\n",
      "           7       0.88      0.54      0.67        26\n",
      "           8       0.83      0.71      0.77         7\n",
      "           9       0.00      0.00      0.00         3\n",
      "          10       1.00      1.00      1.00         4\n",
      "          11       1.00      0.50      0.67        20\n",
      "          12       0.00      0.00      0.00         1\n",
      "          13       1.00      1.00      1.00         3\n",
      "          15       0.00      0.00      0.00         1\n",
      "          16       0.82      0.54      0.65        26\n",
      "\n",
      "    accuracy                           0.62       290\n",
      "   macro avg       0.63      0.52      0.54       290\n",
      "weighted avg       0.66      0.62      0.61       290\n",
      "\n"
     ]
    },
    {
     "name": "stderr",
     "output_type": "stream",
     "text": [
      "/Users/ishantkundra/opt/anaconda3/lib/python3.9/site-packages/sklearn/metrics/_classification.py:1318: UndefinedMetricWarning: Precision and F-score are ill-defined and being set to 0.0 in labels with no predicted samples. Use `zero_division` parameter to control this behavior.\n",
      "  _warn_prf(average, modifier, msg_start, len(result))\n",
      "/Users/ishantkundra/opt/anaconda3/lib/python3.9/site-packages/sklearn/metrics/_classification.py:1318: UndefinedMetricWarning: Precision and F-score are ill-defined and being set to 0.0 in labels with no predicted samples. Use `zero_division` parameter to control this behavior.\n",
      "  _warn_prf(average, modifier, msg_start, len(result))\n",
      "/Users/ishantkundra/opt/anaconda3/lib/python3.9/site-packages/sklearn/metrics/_classification.py:1318: UndefinedMetricWarning: Precision and F-score are ill-defined and being set to 0.0 in labels with no predicted samples. Use `zero_division` parameter to control this behavior.\n",
      "  _warn_prf(average, modifier, msg_start, len(result))\n",
      "/Users/ishantkundra/opt/anaconda3/lib/python3.9/site-packages/sklearn/metrics/_classification.py:1318: UndefinedMetricWarning: Precision and F-score are ill-defined and being set to 0.0 in labels with no predicted samples. Use `zero_division` parameter to control this behavior.\n",
      "  _warn_prf(average, modifier, msg_start, len(result))\n",
      "/Users/ishantkundra/opt/anaconda3/lib/python3.9/site-packages/sklearn/metrics/_classification.py:1318: UndefinedMetricWarning: Precision and F-score are ill-defined and being set to 0.0 in labels with no predicted samples. Use `zero_division` parameter to control this behavior.\n",
      "  _warn_prf(average, modifier, msg_start, len(result))\n",
      "/Users/ishantkundra/opt/anaconda3/lib/python3.9/site-packages/sklearn/metrics/_classification.py:1318: UndefinedMetricWarning: Precision and F-score are ill-defined and being set to 0.0 in labels with no predicted samples. Use `zero_division` parameter to control this behavior.\n",
      "  _warn_prf(average, modifier, msg_start, len(result))\n",
      "/Users/ishantkundra/opt/anaconda3/lib/python3.9/site-packages/sklearn/metrics/_classification.py:1318: UndefinedMetricWarning: Precision and F-score are ill-defined and being set to 0.0 in labels with no predicted samples. Use `zero_division` parameter to control this behavior.\n",
      "  _warn_prf(average, modifier, msg_start, len(result))\n",
      "/Users/ishantkundra/opt/anaconda3/lib/python3.9/site-packages/sklearn/metrics/_classification.py:1318: UndefinedMetricWarning: Precision and F-score are ill-defined and being set to 0.0 in labels with no predicted samples. Use `zero_division` parameter to control this behavior.\n",
      "  _warn_prf(average, modifier, msg_start, len(result))\n",
      "/Users/ishantkundra/opt/anaconda3/lib/python3.9/site-packages/sklearn/metrics/_classification.py:1318: UndefinedMetricWarning: Precision and F-score are ill-defined and being set to 0.0 in labels with no predicted samples. Use `zero_division` parameter to control this behavior.\n",
      "  _warn_prf(average, modifier, msg_start, len(result))\n",
      "/Users/ishantkundra/opt/anaconda3/lib/python3.9/site-packages/sklearn/metrics/_classification.py:1318: UndefinedMetricWarning: Precision and F-score are ill-defined and being set to 0.0 in labels with no predicted samples. Use `zero_division` parameter to control this behavior.\n",
      "  _warn_prf(average, modifier, msg_start, len(result))\n",
      "/Users/ishantkundra/opt/anaconda3/lib/python3.9/site-packages/sklearn/metrics/_classification.py:1318: UndefinedMetricWarning: Precision and F-score are ill-defined and being set to 0.0 in labels with no predicted samples. Use `zero_division` parameter to control this behavior.\n",
      "  _warn_prf(average, modifier, msg_start, len(result))\n",
      "/Users/ishantkundra/opt/anaconda3/lib/python3.9/site-packages/sklearn/metrics/_classification.py:1318: UndefinedMetricWarning: Precision and F-score are ill-defined and being set to 0.0 in labels with no predicted samples. Use `zero_division` parameter to control this behavior.\n",
      "  _warn_prf(average, modifier, msg_start, len(result))\n"
     ]
    }
   ],
   "source": [
    "print(\"classification_report- logistic Regression (TFIDF vectoriser and solver='liblinear':\\n\", classification_report(y_test,y_pred_lm_tfidf))\n",
    "print(\"classification_report- logistic Regression (TFIDF vectoriser and solver='lbfgs':\\n\", classification_report(y_test,y_pred_lm1_tfidf))\n",
    "print(\"classification_report- SVM ( TFIDF vectoriser):\\n\", classification_report(y_test,y_pred_svc_tfidf))\n",
    "print(\"classification_report- knn ( TFIDF vectoriser):\\n\", classification_report(y_test,y_pred_knn_tfidf))"
   ]
  },
  {
   "cell_type": "code",
   "execution_count": 91,
   "id": "c84f6ce8",
   "metadata": {},
   "outputs": [],
   "source": [
    "model = LogisticRegression(multi_class='multinomial', solver='lbfgs')"
   ]
  },
  {
   "cell_type": "code",
   "execution_count": 92,
   "id": "95ae9217",
   "metadata": {},
   "outputs": [
    {
     "data": {
      "text/plain": [
       "LogisticRegression(multi_class='multinomial')"
      ]
     },
     "execution_count": 92,
     "metadata": {},
     "output_type": "execute_result"
    }
   ],
   "source": [
    "model.fit(X_train,y_train)"
   ]
  },
  {
   "cell_type": "code",
   "execution_count": 93,
   "id": "4c9fef90",
   "metadata": {},
   "outputs": [
    {
     "data": {
      "text/plain": [
       "0.39655172413793105"
      ]
     },
     "execution_count": 93,
     "metadata": {},
     "output_type": "execute_result"
    }
   ],
   "source": [
    "y_pred_LRmultinomial=model.predict(X_test)\n",
    "accuracy_score(y_test,y_pred_LRmultinomial)"
   ]
  },
  {
   "cell_type": "markdown",
   "id": "ff597f7e",
   "metadata": {},
   "source": [
    "## 5. Share insights on relative performance comparison [8 Marks]"
   ]
  },
  {
   "cell_type": "markdown",
   "id": "cde9ae5d",
   "metadata": {},
   "source": [
    "### 5.A. Which vectorizer performed better? Probable reason?.[2 Marks]"
   ]
  },
  {
   "cell_type": "markdown",
   "id": "7e254317",
   "metadata": {},
   "source": [
    "* I have tried two vectoriser - 1. count vectoriser , 2. TFIDF vectoriser\n",
    "With three machine learning algorithm - Logistic regression, SVM, KNN\n",
    "Build model with both type of vectoriser.\n",
    "I found count vectoriser with logistic regression is giving better accuracy among others.\n",
    "And TFIDF vectoriser with KNN is giving better accuracy among others."
   ]
  },
  {
   "cell_type": "markdown",
   "id": "bd0644c7",
   "metadata": {},
   "source": [
    "### 5.B. Which model outperformed? Probable reason? [2 Marks]"
   ]
  },
  {
   "cell_type": "markdown",
   "id": "8e96e9c7",
   "metadata": {},
   "source": [
    "* logistic regression with count vectoriser and knn with tfidf are performing better.\n",
    "*  Since Logistic regression with multi-class classification problem is based onone-vs-rest(ovr) or multinomial.\n"
   ]
  },
  {
   "cell_type": "markdown",
   "id": "bb3629ca",
   "metadata": {},
   "source": [
    "### 5.C. Which parameter/hyperparameter significantly helped to improve performance?Probable reason?. [2 Marks]"
   ]
  },
  {
   "cell_type": "markdown",
   "id": "61833416",
   "metadata": {},
   "source": [
    "* TFIDF vectors are having tfidf score values for each word. knn works on distance matrix. And Similarity can be checked by comapring tfidf values vectors.KNN with tfidf vectors is performing better among other ML algo.Number of nighbours can be tuned for improving accuracy."
   ]
  },
  {
   "cell_type": "markdown",
   "id": "62626bbc",
   "metadata": {},
   "source": [
    "### 5.D. According to you, which performance metric should be given most importance, why?. [2 Marks]"
   ]
  },
  {
   "cell_type": "markdown",
   "id": "362e312d",
   "metadata": {},
   "source": [
    "* Performance metrics - Accuracy score which gives number of  correct prediction out of total prediction is more important. "
   ]
  },
  {
   "cell_type": "markdown",
   "id": "c4235a60",
   "metadata": {},
   "source": [
    "# PART - B"
   ]
  },
  {
   "cell_type": "markdown",
   "id": "a6e700e1",
   "metadata": {},
   "source": [
    "## 1. Start chat session with greetings and ask what the user is looking for. [5 Marks]"
   ]
  },
  {
   "cell_type": "markdown",
   "id": "61a97940",
   "metadata": {},
   "source": [
    "## 2. Accept dynamic text based questions from the user. Reply back with relevant answer from the designed corpus. [10 Marks]"
   ]
  },
  {
   "cell_type": "markdown",
   "id": "bfae3077",
   "metadata": {},
   "source": [
    "## 3. End the chat session only if the user requests to end else ask what the user is looking for. Loop continues till the user asks to end it. [5 Marks]"
   ]
  },
  {
   "cell_type": "code",
   "execution_count": 97,
   "id": "6d081d0f",
   "metadata": {},
   "outputs": [
    {
     "name": "stderr",
     "output_type": "stream",
     "text": [
      "[nltk_data] Downloading package punkt to\n",
      "[nltk_data]     /Users/ishantkundra/nltk_data...\n",
      "[nltk_data]   Package punkt is already up-to-date!\n",
      "[nltk_data] Downloading package wordnet to\n",
      "[nltk_data]     /Users/ishantkundra/nltk_data...\n",
      "[nltk_data]   Package wordnet is already up-to-date!\n"
     ]
    }
   ],
   "source": [
    "import nltk\n",
    "import json\n",
    "import numpy as np\n",
    "import random\n",
    "\n",
    "nltk.download('punkt')\n",
    "nltk.download('wordnet')\n",
    "from nltk.stem import WordNetLemmatizer\n",
    "lemmatizer=WordNetLemmatizer()\n",
    "\n",
    "from nltk.stem.lancaster import LancasterStemmer\n",
    "stemmer = LancasterStemmer()\n",
    "\n",
    "\n",
    "words = []\n",
    "labels = []\n",
    "docs_x = []\n",
    "docs_y = []"
   ]
  },
  {
   "cell_type": "code",
   "execution_count": 98,
   "id": "87b38f4b",
   "metadata": {},
   "outputs": [],
   "source": [
    "import wikipedia as wk"
   ]
  },
  {
   "cell_type": "code",
   "execution_count": 99,
   "id": "7304f945",
   "metadata": {},
   "outputs": [],
   "source": [
    "data_file=open('Desktop/data/GL+Bot.json').read()\n",
    "data=json.loads(data_file)"
   ]
  },
  {
   "cell_type": "code",
   "execution_count": 100,
   "id": "c9b20ecf",
   "metadata": {},
   "outputs": [],
   "source": [
    "for intent in data['intents']:\n",
    "    for pattern in intent['patterns']:\n",
    "        wrds = nltk.word_tokenize(pattern)\n",
    "        words.extend(wrds)\n",
    "        docs_x.append(wrds)\n",
    "        docs_y.append(intent[\"tag\"])\n",
    "        \n",
    "    if intent['tag'] not in labels:\n",
    "        labels.append(intent['tag'])"
   ]
  },
  {
   "cell_type": "code",
   "execution_count": 101,
   "id": "ab391a26",
   "metadata": {},
   "outputs": [],
   "source": [
    "words = [stemmer.stem(w.lower()) for w in words if w != \"?\"]\n",
    "words = sorted(list(set(words)))\n",
    "\n",
    "labels = sorted(labels)"
   ]
  },
  {
   "cell_type": "code",
   "execution_count": 102,
   "id": "c7e562d4",
   "metadata": {},
   "outputs": [],
   "source": [
    "training = []\n",
    "output = []\n",
    "\n",
    "out_empty = [0 for _ in range(len(labels))]\n",
    "\n",
    "for x, doc in enumerate(docs_x):\n",
    "    bag = []\n",
    "\n",
    "    wrds = [stemmer.stem(w.lower()) for w in doc]\n",
    "\n",
    "    for w in words:\n",
    "        if w in wrds:\n",
    "            bag.append(1)\n",
    "        else:\n",
    "            bag.append(0)\n",
    "\n",
    "    output_row = out_empty[:]\n",
    "    output_row[labels.index(docs_y[x])] = 1\n",
    "\n",
    "    training.append(bag)\n",
    "    output.append(output_row)"
   ]
  },
  {
   "cell_type": "code",
   "execution_count": 103,
   "id": "8ecb4e23",
   "metadata": {},
   "outputs": [],
   "source": [
    "training = np.array(training)\n",
    "output = np.array(output)"
   ]
  },
  {
   "cell_type": "code",
   "execution_count": 104,
   "id": "1f9acfcb",
   "metadata": {},
   "outputs": [
    {
     "name": "stdout",
     "output_type": "stream",
     "text": [
      "WARNING:tensorflow:From /Users/ishantkundra/opt/anaconda3/lib/python3.9/site-packages/tensorflow/python/compat/v2_compat.py:107: disable_resource_variables (from tensorflow.python.ops.variable_scope) is deprecated and will be removed in a future version.\n",
      "Instructions for updating:\n",
      "non-resource variables are not supported in the long term\n",
      "WARNING:tensorflow:From /Users/ishantkundra/opt/anaconda3/lib/python3.9/site-packages/tflearn/initializations.py:164: calling TruncatedNormal.__init__ (from tensorflow.python.ops.init_ops) with dtype is deprecated and will be removed in a future version.\n",
      "Instructions for updating:\n",
      "Call initializer instance with the dtype argument instead of passing it to the constructor\n"
     ]
    },
    {
     "name": "stderr",
     "output_type": "stream",
     "text": [
      "2023-04-22 16:20:54.831313: I tensorflow/core/platform/cpu_feature_guard.cc:151] This TensorFlow binary is optimized with oneAPI Deep Neural Network Library (oneDNN) to use the following CPU instructions in performance-critical operations:  AVX2 FMA\n",
      "To enable them in other operations, rebuild TensorFlow with the appropriate compiler flags.\n"
     ]
    }
   ],
   "source": [
    "import tflearn\n",
    "import tensorflow as tf\n",
    "import random\n",
    "tf.compat.v1.reset_default_graph()\n",
    "\n",
    "net = tflearn.input_data(shape=[None, len(training[0])])\n",
    "net = tflearn.fully_connected(net, 8)\n",
    "net = tflearn.fully_connected(net, 8)\n",
    "net = tflearn.fully_connected(net, len(output[0]), activation=\"softmax\")\n",
    "net = tflearn.regression(net)\n",
    "\n",
    "model = tflearn.DNN(net)"
   ]
  },
  {
   "cell_type": "code",
   "execution_count": 105,
   "id": "80f75b69",
   "metadata": {},
   "outputs": [
    {
     "name": "stdout",
     "output_type": "stream",
     "text": [
      "Training Step: 1599  | total loss: \u001b[1m\u001b[32m0.42750\u001b[0m\u001b[0m | time: 0.125s\n",
      "| Adam | epoch: 100 | loss: 0.42750 - acc: 0.9441 -- iter: 120/128\n",
      "Training Step: 1600  | total loss: \u001b[1m\u001b[32m0.43298\u001b[0m\u001b[0m | time: 0.130s\n",
      "| Adam | epoch: 100 | loss: 0.43298 - acc: 0.9247 -- iter: 128/128\n",
      "--\n",
      "INFO:tensorflow:/Users/ishantkundra/model.tflearn is not in all_model_checkpoint_paths. Manually adding it.\n"
     ]
    }
   ],
   "source": [
    "model.fit(training, output, n_epoch=100, batch_size=8, show_metric=True)\n",
    "model.save(\"model.tflearn\")"
   ]
  },
  {
   "cell_type": "code",
   "execution_count": 106,
   "id": "30c679ce",
   "metadata": {},
   "outputs": [
    {
     "name": "stdout",
     "output_type": "stream",
     "text": [
      "Start talking with the bot (type quit to stop)!\n",
      "You: hello\n",
      "['Hello! how can i help you ?']\n",
      "You: what is deep learning?\n",
      "Deep learning is part of a broader family of machine learning methods, which is based on artificial neural networks with representation learning. Learning can be supervised, semi-supervised or unsupervised.Deep-learning architectures such as deep neural networks, deep belief networks, deep reinforcement learning, recurrent neural networks, convolutional neural networks and transformers have been applied to fields including computer vision, speech recognition, natural language processing, machine translation, bioinformatics, drug design, medical image analysis, climate science, material inspection and board game programs, where they have produced results comparable to and in some cases surpassing human expert performance.Artificial neural networks (ANNs) were inspired by information processing and distributed communication nodes in biological systems. ANNs have various differences from biological brains.\n",
      "You: can you help in understanding of neural network?\n",
      "['I hope I was able to assist you, Good Bye']\n",
      "You: can you help in understanding of neural network?\n",
      "['I hope I was able to assist you, Good Bye']\n",
      "You: what is neural network?\n",
      "A neural network can refer to either a neural circuit of biological neurons (sometimes also called a biological neural network), or a network of artificial neurons or nodes in the case of an artificial neural network. Artificial neural networks are used for solving artificial intelligence (AI) problems; they model connections of biological neurons as weights between nodes. A positive weight reflects an excitatory connection, while negative values mean inhibitory connections.\n",
      "You: what is neural network in artificial intelligence?\n",
      "['Hello! how can i help you ?']\n",
      "You: what is neural network in artificial intelligence?\n",
      "['Hello! how can i help you ?']\n",
      "You: explain logistic regression\n",
      "In statistics, the logistic model (or logit model) is a statistical model that models the probability of an event taking place by having the log-odds for the event be a linear combination of one or more independent variables. In regression analysis, logistic regression (or logit regression) is estimating the parameters of a logistic model (the coefficients in the linear combination). Formally, in binary logistic regression there is a single binary dependent variable, coded by an indicator variable, where the two values are labeled \"0\" and \"1\", while the independent variables can each be a binary variable (two classes, coded by an indicator variable) or a continuous variable (any real value).\n",
      "You: what is neural network in artificial intelligence?\n",
      "['Hello! how can i help you ?']\n",
      "You: what is artificial intelligence \n",
      "Artificial intelligence (AI) is intelligence—perceiving, synthesizing, and inferring information—demonstrated by machines, as opposed to intelligence displayed by non-human animals or by humans. Example tasks in which this is done include speech recognition, computer vision, translation between (natural) languages, as well as other mappings of inputs.\n",
      "AI applications include advanced web search engines (e.g., Google Search), recommendation systems (used by YouTube, Amazon, and Netflix), understanding human speech (such as Siri and Alexa), self-driving cars (e.g., Waymo), generative or creative tools (ChatGPT and AI art), automated decision-making, and competing at the highest level in strategic game systems (such as chess and Go).As machines become increasingly capable, tasks considered to require \"intelligence\" are often removed from the definition of AI, a phenomenon known as the AI effect.\n",
      "You: quit\n"
     ]
    }
   ],
   "source": [
    "def bag_of_words(s, words):\n",
    "    bag = [0 for _ in range(len(words))]\n",
    "\n",
    "    s_words = nltk.word_tokenize(s)\n",
    "    s_words = [stemmer.stem(word.lower()) for word in s_words]\n",
    "\n",
    "    for se in s_words:\n",
    "        for i, w in enumerate(words):\n",
    "            if w == se:\n",
    "                bag[i] = 1\n",
    "            \n",
    "    return np.array(bag)\n",
    "\n",
    "\n",
    "def chat():\n",
    "    print(\"Start talking with the bot (type quit to stop)!\")\n",
    "    while True:\n",
    "        inp = input(\"You: \")\n",
    "        if inp.lower() == \"quit\":\n",
    "            break\n",
    "\n",
    "        results = model.predict([bag_of_words(inp, words)])\n",
    "        results_index = np.argmax(results)\n",
    "        tag = labels[results_index]\n",
    "\n",
    "        for tg in data[\"intents\"]:\n",
    "            if tg['tag'] == tag:\n",
    "              # print(tag)\n",
    "              if tag in [\"NN\",\"SL\",\"Olympus\"]:\n",
    "                try:\n",
    "                  responses = wk.summary(inp, sentences = 3)\n",
    "                except Exception as e:\n",
    "                  print(\"Try again with relevant quetion\")\n",
    "                  responses=\"\"\n",
    "              else:\n",
    "                responses = tg['responses']\n",
    "              \n",
    "        print(responses)    \n",
    "        # print(random.choice(responses))\n",
    "\n",
    "chat()"
   ]
  },
  {
   "cell_type": "code",
   "execution_count": null,
   "id": "1fae85b8",
   "metadata": {},
   "outputs": [],
   "source": []
  }
 ],
 "metadata": {
  "kernelspec": {
   "display_name": "Python 3 (ipykernel)",
   "language": "python",
   "name": "python3"
  },
  "language_info": {
   "codemirror_mode": {
    "name": "ipython",
    "version": 3
   },
   "file_extension": ".py",
   "mimetype": "text/x-python",
   "name": "python",
   "nbconvert_exporter": "python",
   "pygments_lexer": "ipython3",
   "version": "3.9.12"
  }
 },
 "nbformat": 4,
 "nbformat_minor": 5
}
